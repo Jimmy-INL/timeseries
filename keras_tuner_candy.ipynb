{
 "cells": [
  {
   "cell_type": "markdown",
   "metadata": {},
   "source": [
    "**Install keras-tuner**"
   ]
  },
  {
   "cell_type": "markdown",
   "metadata": {},
   "source": [
    " - Installing from a branch of Jam Long. See this issue:\n",
    " https://github.com/keras-team/keras-tuner/issues/71\n",
    " and the fix that has NOT been merged yet (as of Sep. 19th, 2019):\n",
    " https://github.com/jamlong/keras-tuner/commit/b397422d4195b0371abcc59cbba7309cde090e5c\n"
   ]
  },
  {
   "cell_type": "code",
   "execution_count": 1,
   "metadata": {},
   "outputs": [],
   "source": [
    "#!wget https://github.com/jamlong/keras-tuner/archive/fix_71.zip"
   ]
  },
  {
   "cell_type": "code",
   "execution_count": 2,
   "metadata": {},
   "outputs": [],
   "source": [
    "#!pip install fix_71.zip"
   ]
  },
  {
   "cell_type": "code",
   "execution_count": 3,
   "metadata": {},
   "outputs": [],
   "source": [
    "import tensorflow as tf\n",
    "from kerastuner import RandomSearch\n",
    "from tensorflow import keras\n",
    "from tensorflow.keras import layers\n",
    "\n",
    "TRIALS = 3  # number of models to train\n",
    "EPOCHS = 2  # number of epoch per model"
   ]
  },
  {
   "cell_type": "markdown",
   "metadata": {},
   "source": [
    "**Candy data**\n",
    "\n",
    "Source: https://assets.datacamp.com/production/repositories/4567/datasets/0707fe926ef5f110ed889fcd2a09c9417e2ffbb6/candy_production.csv"
   ]
  },
  {
   "cell_type": "code",
   "execution_count": 4,
   "metadata": {},
   "outputs": [],
   "source": [
    "# Uncomment to download the data\n",
    "#!wget https://assets.datacamp.com/production/repositories/4567/datasets/0707fe926ef5f110ed889fcd2a09c9417e2ffbb6/candy_production.csv"
   ]
  },
  {
   "cell_type": "code",
   "execution_count": 5,
   "metadata": {},
   "outputs": [
    {
     "data": {
      "text/html": [
       "<div>\n",
       "<style scoped>\n",
       "    .dataframe tbody tr th:only-of-type {\n",
       "        vertical-align: middle;\n",
       "    }\n",
       "\n",
       "    .dataframe tbody tr th {\n",
       "        vertical-align: top;\n",
       "    }\n",
       "\n",
       "    .dataframe thead th {\n",
       "        text-align: right;\n",
       "    }\n",
       "</style>\n",
       "<table border=\"1\" class=\"dataframe\">\n",
       "  <thead>\n",
       "    <tr style=\"text-align: right;\">\n",
       "      <th></th>\n",
       "      <th>IPG3113N</th>\n",
       "    </tr>\n",
       "    <tr>\n",
       "      <th>date</th>\n",
       "      <th></th>\n",
       "    </tr>\n",
       "  </thead>\n",
       "  <tbody>\n",
       "    <tr>\n",
       "      <td>1972-01-01</td>\n",
       "      <td>85.598809</td>\n",
       "    </tr>\n",
       "    <tr>\n",
       "      <td>1972-02-01</td>\n",
       "      <td>71.741404</td>\n",
       "    </tr>\n",
       "    <tr>\n",
       "      <td>1972-03-01</td>\n",
       "      <td>65.948809</td>\n",
       "    </tr>\n",
       "    <tr>\n",
       "      <td>1972-04-01</td>\n",
       "      <td>64.490724</td>\n",
       "    </tr>\n",
       "    <tr>\n",
       "      <td>1972-05-01</td>\n",
       "      <td>64.933842</td>\n",
       "    </tr>\n",
       "  </tbody>\n",
       "</table>\n",
       "</div>"
      ],
      "text/plain": [
       "             IPG3113N\n",
       "date                 \n",
       "1972-01-01  85.598809\n",
       "1972-02-01  71.741404\n",
       "1972-03-01  65.948809\n",
       "1972-04-01  64.490724\n",
       "1972-05-01  64.933842"
      ]
     },
     "execution_count": 5,
     "metadata": {},
     "output_type": "execute_result"
    }
   ],
   "source": [
    "# Load in the time series\n",
    "candy = pd.read_csv('candy_production.csv', \n",
    "            index_col='date',\n",
    "            parse_dates=True)\n",
    "candy.head()"
   ]
  },
  {
   "cell_type": "markdown",
   "metadata": {},
   "source": [
    "# Data preprocessing"
   ]
  },
  {
   "cell_type": "code",
   "execution_count": 6,
   "metadata": {},
   "outputs": [
    {
     "data": {
      "text/plain": [
       "(564, 1)"
      ]
     },
     "execution_count": 6,
     "metadata": {},
     "output_type": "execute_result"
    }
   ],
   "source": [
    "candy.to_numpy().shape"
   ]
  },
  {
   "cell_type": "code",
   "execution_count": 7,
   "metadata": {},
   "outputs": [],
   "source": [
    "# Source: https://github.com/pipidog/DeepTimeSeries/blob/master/DeepTimeSeries/utils.py\n",
    "# NOTE: the author mis-spelled it superviesed;\n",
    "# Added shuffle option\n",
    "def series_to_supervised(x_timeseries, y_timeseries, n_memory_step, n_forcast_step, \n",
    "                         split=None, shuffle=True, seed=123):\n",
    "    '''\n",
    "        x_timeseries:  input  time series data, numpy array, (time_snapshots, features)\n",
    "        y_timeseries:  target time series data, numpy array, (time_snapshots, features)\n",
    "        n_memory_step:  number of memory steps in supervised learning, (input_steps)\n",
    "        n_forcast_step: number of forecast steps in supervised learning, (output_steps)\n",
    "        split: portion of data to be used as train set, float, example: 0.8\n",
    "    '''\n",
    "    assert len(x_timeseries.shape) == 2, 'x_timeseries must be shape of (time_step, features)'\n",
    "    assert len(y_timeseries.shape) == 2, 'y_timeseries must be shape of (time_step, features)' \n",
    "\n",
    "    input_step, input_feature = x_timeseries.shape\n",
    "    output_step, output_feature = y_timeseries.shape\n",
    "    assert input_step == output_step, 'number of time_step of x_timeseries and y_timeseries are not consistent!'\n",
    "\n",
    "    n_RNN_sample=input_step-n_forcast_step-n_memory_step+1\n",
    "    RNN_x=np.zeros((n_RNN_sample,n_memory_step, input_feature))\n",
    "    RNN_y=np.zeros((n_RNN_sample,n_forcast_step, output_feature))\n",
    "\n",
    "    for n in range(n_RNN_sample):\n",
    "        RNN_x[n,:,:]=x_timeseries[n:n+n_memory_step,:]\n",
    "        RNN_y[n,:,:]=y_timeseries[n+n_memory_step:n+n_memory_step+n_forcast_step,:]\n",
    "    \n",
    "    if shuffle:\n",
    "        np.random.seed(seed)\n",
    "        random_idxs = np.random.permutation(np.arange(RNN_x.shape[0]))\n",
    "        RNN_x, RNN_y = RNN_x[random_idxs], RNN_y[random_idxs]\n",
    "        \n",
    "    if split:\n",
    "        assert (split <=0.9) & (split >= 0.1), 'split not in reasonable range'\n",
    "        return RNN_x[:int(split*len(RNN_x))], RNN_y[:int(split*len(RNN_x))],\\\n",
    "               RNN_x[int(split*len(RNN_x))+1:], RNN_y[int(split*len(RNN_x))+1:]\n",
    "    else:\n",
    "        return RNN_x, RNN_y, None, None"
   ]
  },
  {
   "cell_type": "code",
   "execution_count": 8,
   "metadata": {},
   "outputs": [],
   "source": [
    "series = candy.to_numpy()[:]\n",
    "\n",
    "split_time = int(0.8 * series.shape[0])\n",
    "\n",
    "series_train = series[:split_time]\n",
    "series_valid = series[split_time:]\n",
    "\n",
    "time_ = np.arange(series.shape[0])\n",
    "time_valid = time_[split_time:]"
   ]
  },
  {
   "cell_type": "code",
   "execution_count": 9,
   "metadata": {},
   "outputs": [],
   "source": [
    "from sklearn.preprocessing import MinMaxScaler\n",
    "\n",
    "scl = MinMaxScaler(feature_range=(0,1))\n",
    "ser_scl = scl.fit_transform(series)"
   ]
  },
  {
   "cell_type": "code",
   "execution_count": 10,
   "metadata": {},
   "outputs": [],
   "source": [
    "look_back = 20\n",
    "\n",
    "#X_train, y_train, X_test, y_test = series_to_supervised(candy.to_numpy(), candy.to_numpy(), look_back, 1, split = 0.8, shuffle=False)\n",
    "X_train, y_train, X_test, y_test = series_to_supervised(ser_scl, ser_scl, look_back, 1, split = 0.8, shuffle=False)"
   ]
  },
  {
   "cell_type": "code",
   "execution_count": 11,
   "metadata": {},
   "outputs": [
    {
     "data": {
      "text/plain": [
       "((435, 20, 1), (435, 1, 1), (108, 20, 1), (108, 1, 1))"
      ]
     },
     "execution_count": 11,
     "metadata": {},
     "output_type": "execute_result"
    }
   ],
   "source": [
    "X_train.shape, y_train.shape, X_test.shape, y_test.shape"
   ]
  },
  {
   "cell_type": "code",
   "execution_count": 12,
   "metadata": {},
   "outputs": [
    {
     "data": {
      "text/plain": [
       "(array([0.39401814, 0.23765274, 0.17228976, 0.15583688, 0.16083698,\n",
       "        0.19051976, 0.20621423, 0.22638477, 0.2737713 , 0.63296006,\n",
       "        0.61790456, 0.62206961, 0.45680726, 0.29875713, 0.21250238,\n",
       "        0.22028707, 0.23593195, 0.2718488 , 0.24015335, 0.25291785]),\n",
       " array([0.33652775]))"
      ]
     },
     "execution_count": 12,
     "metadata": {},
     "output_type": "execute_result"
    }
   ],
   "source": [
    "X_train[0,:,0], y_train[0,:,0]"
   ]
  },
  {
   "cell_type": "code",
   "execution_count": 13,
   "metadata": {},
   "outputs": [
    {
     "data": {
      "text/plain": [
       "(array([0.33652775, 0.58819698, 0.6595123 , 0.61398291, 0.42768004,\n",
       "        0.37025163, 0.29830975, 0.18662404, 0.26886361, 0.32487212,\n",
       "        0.1724757 , 0.23041573, 0.21917256, 0.54684843, 0.56850988,\n",
       "        0.40834003, 0.18427331, 0.02287851, 0.        , 0.10251267]),\n",
       " array([0.11443424]))"
      ]
     },
     "execution_count": 13,
     "metadata": {},
     "output_type": "execute_result"
    }
   ],
   "source": [
    "X_train[20,:,0], y_train[20,:,0]"
   ]
  },
  {
   "cell_type": "code",
   "execution_count": 14,
   "metadata": {},
   "outputs": [
    {
     "data": {
      "text/plain": [
       "[<matplotlib.lines.Line2D at 0x7f88648430f0>]"
      ]
     },
     "execution_count": 14,
     "metadata": {},
     "output_type": "execute_result"
    },
    {
     "data": {
      "image/png": "[encoded data removed]",
      "text/plain": [
       "<Figure size 432x288 with 1 Axes>"
      ]
     },
     "metadata": {
      "needs_background": "light"
     },
     "output_type": "display_data"
    }
   ],
   "source": [
    "tax = np.arange(20)\n",
    "plt.plot(tax, X_train[0, :, 0])\n",
    "plt.plot(tax[-1], y_train[0, :, 0], 'rx')"
   ]
  },
  {
   "cell_type": "code",
   "execution_count": null,
   "metadata": {},
   "outputs": [],
   "source": []
  },
  {
   "cell_type": "code",
   "execution_count": null,
   "metadata": {},
   "outputs": [],
   "source": []
  },
  {
   "cell_type": "markdown",
   "metadata": {},
   "source": [
    "# Model with LearningRateScheduler"
   ]
  },
  {
   "cell_type": "code",
   "execution_count": 15,
   "metadata": {},
   "outputs": [],
   "source": [
    "mod = keras.Sequential()\n",
    "mod.add(layers.SimpleRNN(36,\n",
    "        input_shape = (X_train.shape[1], X_train.shape[2]),                        \n",
    "        return_sequences=True))\n",
    "mod.add(layers.SimpleRNN(36))\n",
    "mod.add(layers.Dense(1))\n",
    "mod.compile(optimizer=keras.optimizers.Adam(lr = 1e-5),\n",
    "            loss=keras.losses.Huber(),\n",
    "            metrics=['mae'])"
   ]
  },
  {
   "cell_type": "code",
   "execution_count": 16,
   "metadata": {},
   "outputs": [],
   "source": [
    "# Source: https://gist.github.com/jeremyjordan/86398d7c05c02396c24661baa4c88165\n",
    "from tensorflow.keras.callbacks import LearningRateScheduler\n",
    "\n",
    "def step_decay_schedule(initial_lr=1e-3, decay_factor=1.0, step_size=10):\n",
    "    '''\n",
    "    Wrapper function to create a LearningRateScheduler with step decay schedule.\n",
    "    '''\n",
    "    def schedule(epoch):\n",
    "        return initial_lr * (decay_factor ** np.floor(epoch/step_size))\n",
    "    \n",
    "    return LearningRateScheduler(schedule)\n",
    "\n",
    "lr_sched = step_decay_schedule(initial_lr=1e-4, decay_factor=0.75)"
   ]
  },
  {
   "cell_type": "code",
   "execution_count": 17,
   "metadata": {},
   "outputs": [],
   "source": [
    "epoch = 200\n",
    "bs = 20"
   ]
  },
  {
   "cell_type": "code",
   "execution_count": 18,
   "metadata": {},
   "outputs": [
    {
     "name": "stdout",
     "output_type": "stream",
     "text": [
      "Train on 348 samples, validate on 87 samples\n",
      "Epoch 1/200\n",
      "WARNING:tensorflow:From /home/fnauman/anaconda3/envs/py36_keras_tuner/lib/python3.6/site-packages/tensorflow_core/python/ops/math_grad.py:1394: where (from tensorflow.python.ops.array_ops) is deprecated and will be removed in a future version.\n",
      "Instructions for updating:\n",
      "Use tf.where in 2.0, which has the same broadcast rule as np.where\n",
      "348/348 [==============================] - 2s 5ms/sample - loss: 0.5406 - mae: 1.0119 - val_loss: 0.3406 - val_mae: 0.8094\n",
      "Epoch 2/200\n",
      "348/348 [==============================] - 0s 704us/sample - loss: 0.1052 - mae: 0.3906 - val_loss: 0.0444 - val_mae: 0.2651\n",
      "Epoch 3/200\n",
      "348/348 [==============================] - 0s 682us/sample - loss: 0.0276 - mae: 0.1906 - val_loss: 0.0138 - val_mae: 0.1379\n",
      "Epoch 4/200\n",
      "348/348 [==============================] - 0s 689us/sample - loss: 0.0232 - mae: 0.1740 - val_loss: 0.0150 - val_mae: 0.1460\n",
      "Epoch 5/200\n",
      "348/348 [==============================] - 0s 670us/sample - loss: 0.0196 - mae: 0.1623 - val_loss: 0.0167 - val_mae: 0.1574\n",
      "Epoch 6/200\n",
      "348/348 [==============================] - 0s 698us/sample - loss: 0.0175 - mae: 0.1543 - val_loss: 0.0155 - val_mae: 0.1520\n",
      "Epoch 7/200\n",
      "348/348 [==============================] - 0s 685us/sample - loss: 0.0155 - mae: 0.1454 - val_loss: 0.0129 - val_mae: 0.1371\n",
      "Epoch 8/200\n",
      "348/348 [==============================] - 0s 680us/sample - loss: 0.0137 - mae: 0.1371 - val_loss: 0.0118 - val_mae: 0.1312\n",
      "Epoch 9/200\n",
      "348/348 [==============================] - 0s 687us/sample - loss: 0.0122 - mae: 0.1289 - val_loss: 0.0110 - val_mae: 0.1262\n",
      "Epoch 10/200\n",
      "348/348 [==============================] - 0s 696us/sample - loss: 0.0108 - mae: 0.1209 - val_loss: 0.0096 - val_mae: 0.1174\n",
      "Epoch 11/200\n",
      "348/348 [==============================] - 0s 667us/sample - loss: 0.0097 - mae: 0.1142 - val_loss: 0.0080 - val_mae: 0.1056\n",
      "Epoch 12/200\n",
      "348/348 [==============================] - 0s 694us/sample - loss: 0.0089 - mae: 0.1087 - val_loss: 0.0078 - val_mae: 0.1041\n",
      "Epoch 13/200\n",
      "348/348 [==============================] - 0s 696us/sample - loss: 0.0082 - mae: 0.1036 - val_loss: 0.0073 - val_mae: 0.1008\n",
      "Epoch 14/200\n",
      "348/348 [==============================] - 0s 689us/sample - loss: 0.0075 - mae: 0.0986 - val_loss: 0.0064 - val_mae: 0.0928\n",
      "Epoch 15/200\n",
      "348/348 [==============================] - 0s 690us/sample - loss: 0.0070 - mae: 0.0945 - val_loss: 0.0060 - val_mae: 0.0896\n",
      "Epoch 16/200\n",
      "348/348 [==============================] - 0s 663us/sample - loss: 0.0065 - mae: 0.0903 - val_loss: 0.0055 - val_mae: 0.0848\n",
      "Epoch 17/200\n",
      "348/348 [==============================] - 0s 681us/sample - loss: 0.0060 - mae: 0.0864 - val_loss: 0.0052 - val_mae: 0.0829\n",
      "Epoch 18/200\n",
      "348/348 [==============================] - 0s 713us/sample - loss: 0.0056 - mae: 0.0831 - val_loss: 0.0048 - val_mae: 0.0802\n",
      "Epoch 19/200\n",
      "348/348 [==============================] - 0s 753us/sample - loss: 0.0053 - mae: 0.0808 - val_loss: 0.0046 - val_mae: 0.0782\n",
      "Epoch 20/200\n",
      "348/348 [==============================] - 0s 716us/sample - loss: 0.0050 - mae: 0.0775 - val_loss: 0.0045 - val_mae: 0.0778\n",
      "Epoch 21/200\n",
      "348/348 [==============================] - 0s 667us/sample - loss: 0.0048 - mae: 0.0758 - val_loss: 0.0043 - val_mae: 0.0757\n",
      "Epoch 22/200\n",
      "348/348 [==============================] - 0s 703us/sample - loss: 0.0046 - mae: 0.0737 - val_loss: 0.0041 - val_mae: 0.0745\n",
      "Epoch 23/200\n",
      "348/348 [==============================] - 0s 672us/sample - loss: 0.0044 - mae: 0.0724 - val_loss: 0.0041 - val_mae: 0.0738\n",
      "Epoch 24/200\n",
      "348/348 [==============================] - 0s 688us/sample - loss: 0.0043 - mae: 0.0711 - val_loss: 0.0040 - val_mae: 0.0729\n",
      "Epoch 25/200\n",
      "348/348 [==============================] - 0s 701us/sample - loss: 0.0042 - mae: 0.0701 - val_loss: 0.0039 - val_mae: 0.0720\n",
      "Epoch 26/200\n",
      "348/348 [==============================] - 0s 730us/sample - loss: 0.0040 - mae: 0.0690 - val_loss: 0.0038 - val_mae: 0.0711\n",
      "Epoch 27/200\n",
      "348/348 [==============================] - 0s 736us/sample - loss: 0.0040 - mae: 0.0688 - val_loss: 0.0038 - val_mae: 0.0708\n",
      "Epoch 28/200\n",
      "348/348 [==============================] - 0s 715us/sample - loss: 0.0038 - mae: 0.0672 - val_loss: 0.0037 - val_mae: 0.0700\n",
      "Epoch 29/200\n",
      "348/348 [==============================] - 0s 719us/sample - loss: 0.0037 - mae: 0.0663 - val_loss: 0.0036 - val_mae: 0.0695\n",
      "Epoch 30/200\n",
      "348/348 [==============================] - 0s 722us/sample - loss: 0.0037 - mae: 0.0656 - val_loss: 0.0036 - val_mae: 0.0691\n",
      "Epoch 31/200\n",
      "348/348 [==============================] - 0s 749us/sample - loss: 0.0036 - mae: 0.0648 - val_loss: 0.0036 - val_mae: 0.0688\n",
      "Epoch 32/200\n",
      "348/348 [==============================] - 0s 718us/sample - loss: 0.0035 - mae: 0.0642 - val_loss: 0.0036 - val_mae: 0.0684\n",
      "Epoch 33/200\n",
      "348/348 [==============================] - 0s 691us/sample - loss: 0.0035 - mae: 0.0637 - val_loss: 0.0035 - val_mae: 0.0681\n",
      "Epoch 34/200\n",
      "348/348 [==============================] - 0s 727us/sample - loss: 0.0034 - mae: 0.0633 - val_loss: 0.0035 - val_mae: 0.0678\n",
      "Epoch 35/200\n",
      "348/348 [==============================] - 0s 678us/sample - loss: 0.0034 - mae: 0.0628 - val_loss: 0.0035 - val_mae: 0.0675\n",
      "Epoch 36/200\n",
      "348/348 [==============================] - 0s 698us/sample - loss: 0.0034 - mae: 0.0625 - val_loss: 0.0035 - val_mae: 0.0673\n",
      "Epoch 37/200\n",
      "348/348 [==============================] - 0s 702us/sample - loss: 0.0033 - mae: 0.0620 - val_loss: 0.0034 - val_mae: 0.0671\n",
      "Epoch 38/200\n",
      "348/348 [==============================] - 0s 709us/sample - loss: 0.0033 - mae: 0.0615 - val_loss: 0.0034 - val_mae: 0.0670\n",
      "Epoch 39/200\n",
      "348/348 [==============================] - 0s 715us/sample - loss: 0.0032 - mae: 0.0611 - val_loss: 0.0034 - val_mae: 0.0666\n",
      "Epoch 40/200\n",
      "348/348 [==============================] - 0s 692us/sample - loss: 0.0032 - mae: 0.0608 - val_loss: 0.0033 - val_mae: 0.0662\n",
      "Epoch 41/200\n",
      "348/348 [==============================] - 0s 674us/sample - loss: 0.0031 - mae: 0.0602 - val_loss: 0.0033 - val_mae: 0.0662\n",
      "Epoch 42/200\n",
      "348/348 [==============================] - 0s 689us/sample - loss: 0.0031 - mae: 0.0601 - val_loss: 0.0033 - val_mae: 0.0663\n",
      "Epoch 43/200\n",
      "348/348 [==============================] - 0s 714us/sample - loss: 0.0031 - mae: 0.0600 - val_loss: 0.0033 - val_mae: 0.0660\n",
      "Epoch 44/200\n",
      "348/348 [==============================] - 0s 668us/sample - loss: 0.0031 - mae: 0.0596 - val_loss: 0.0033 - val_mae: 0.0661\n",
      "Epoch 45/200\n",
      "348/348 [==============================] - 0s 713us/sample - loss: 0.0030 - mae: 0.0591 - val_loss: 0.0033 - val_mae: 0.0658\n",
      "Epoch 46/200\n",
      "348/348 [==============================] - 0s 711us/sample - loss: 0.0030 - mae: 0.0589 - val_loss: 0.0033 - val_mae: 0.0661\n",
      "Epoch 47/200\n",
      "348/348 [==============================] - 0s 693us/sample - loss: 0.0030 - mae: 0.0588 - val_loss: 0.0033 - val_mae: 0.0655\n",
      "Epoch 48/200\n",
      "348/348 [==============================] - 0s 698us/sample - loss: 0.0030 - mae: 0.0584 - val_loss: 0.0033 - val_mae: 0.0658\n",
      "Epoch 49/200\n",
      "348/348 [==============================] - 0s 715us/sample - loss: 0.0029 - mae: 0.0581 - val_loss: 0.0032 - val_mae: 0.0650\n",
      "Epoch 50/200\n",
      "348/348 [==============================] - 0s 717us/sample - loss: 0.0029 - mae: 0.0578 - val_loss: 0.0032 - val_mae: 0.0650\n",
      "Epoch 51/200\n",
      "348/348 [==============================] - 0s 771us/sample - loss: 0.0029 - mae: 0.0576 - val_loss: 0.0032 - val_mae: 0.0648\n",
      "Epoch 52/200\n",
      "348/348 [==============================] - 0s 709us/sample - loss: 0.0029 - mae: 0.0575 - val_loss: 0.0032 - val_mae: 0.0653\n",
      "Epoch 53/200\n",
      "348/348 [==============================] - 0s 711us/sample - loss: 0.0029 - mae: 0.0573 - val_loss: 0.0032 - val_mae: 0.0648\n",
      "Epoch 54/200\n",
      "348/348 [==============================] - 0s 746us/sample - loss: 0.0028 - mae: 0.0570 - val_loss: 0.0032 - val_mae: 0.0648\n",
      "Epoch 55/200\n",
      "348/348 [==============================] - 0s 704us/sample - loss: 0.0028 - mae: 0.0571 - val_loss: 0.0031 - val_mae: 0.0645\n",
      "Epoch 56/200\n",
      "348/348 [==============================] - 0s 702us/sample - loss: 0.0028 - mae: 0.0569 - val_loss: 0.0031 - val_mae: 0.0644\n",
      "Epoch 57/200\n",
      "348/348 [==============================] - 0s 735us/sample - loss: 0.0028 - mae: 0.0565 - val_loss: 0.0031 - val_mae: 0.0646\n",
      "Epoch 58/200\n",
      "348/348 [==============================] - 0s 752us/sample - loss: 0.0028 - mae: 0.0564 - val_loss: 0.0031 - val_mae: 0.0645\n",
      "Epoch 59/200\n",
      "348/348 [==============================] - 0s 682us/sample - loss: 0.0028 - mae: 0.0562 - val_loss: 0.0031 - val_mae: 0.0645\n",
      "Epoch 60/200\n",
      "348/348 [==============================] - 0s 711us/sample - loss: 0.0027 - mae: 0.0560 - val_loss: 0.0031 - val_mae: 0.0637\n",
      "Epoch 61/200\n",
      "348/348 [==============================] - 0s 713us/sample - loss: 0.0027 - mae: 0.0557 - val_loss: 0.0031 - val_mae: 0.0640\n",
      "Epoch 62/200\n",
      "348/348 [==============================] - 0s 691us/sample - loss: 0.0027 - mae: 0.0555 - val_loss: 0.0030 - val_mae: 0.0635\n",
      "Epoch 63/200\n",
      "348/348 [==============================] - 0s 730us/sample - loss: 0.0027 - mae: 0.0553 - val_loss: 0.0031 - val_mae: 0.0640\n",
      "Epoch 64/200\n",
      "348/348 [==============================] - 0s 712us/sample - loss: 0.0027 - mae: 0.0552 - val_loss: 0.0031 - val_mae: 0.0640\n",
      "Epoch 65/200\n",
      "348/348 [==============================] - 0s 720us/sample - loss: 0.0027 - mae: 0.0551 - val_loss: 0.0030 - val_mae: 0.0634\n",
      "Epoch 66/200\n",
      "348/348 [==============================] - 0s 702us/sample - loss: 0.0026 - mae: 0.0549 - val_loss: 0.0030 - val_mae: 0.0636\n",
      "Epoch 67/200\n",
      "348/348 [==============================] - 0s 720us/sample - loss: 0.0026 - mae: 0.0548 - val_loss: 0.0031 - val_mae: 0.0638\n",
      "Epoch 68/200\n",
      "348/348 [==============================] - 0s 683us/sample - loss: 0.0026 - mae: 0.0548 - val_loss: 0.0030 - val_mae: 0.0633\n",
      "Epoch 69/200\n",
      "348/348 [==============================] - 0s 707us/sample - loss: 0.0026 - mae: 0.0545 - val_loss: 0.0030 - val_mae: 0.0632\n",
      "Epoch 70/200\n",
      "348/348 [==============================] - 0s 702us/sample - loss: 0.0026 - mae: 0.0545 - val_loss: 0.0030 - val_mae: 0.0635\n",
      "Epoch 71/200\n",
      "348/348 [==============================] - 0s 725us/sample - loss: 0.0026 - mae: 0.0542 - val_loss: 0.0030 - val_mae: 0.0634\n",
      "Epoch 72/200\n",
      "348/348 [==============================] - 0s 731us/sample - loss: 0.0026 - mae: 0.0542 - val_loss: 0.0030 - val_mae: 0.0632\n",
      "Epoch 73/200\n",
      "348/348 [==============================] - 0s 682us/sample - loss: 0.0026 - mae: 0.0540 - val_loss: 0.0030 - val_mae: 0.0632\n",
      "Epoch 74/200\n",
      "348/348 [==============================] - 0s 747us/sample - loss: 0.0025 - mae: 0.0539 - val_loss: 0.0030 - val_mae: 0.0627\n",
      "Epoch 75/200\n",
      "348/348 [==============================] - 0s 701us/sample - loss: 0.0025 - mae: 0.0539 - val_loss: 0.0030 - val_mae: 0.0626\n",
      "Epoch 76/200\n",
      "348/348 [==============================] - 0s 705us/sample - loss: 0.0025 - mae: 0.0538 - val_loss: 0.0030 - val_mae: 0.0626\n",
      "Epoch 77/200\n",
      "348/348 [==============================] - 0s 705us/sample - loss: 0.0025 - mae: 0.0537 - val_loss: 0.0030 - val_mae: 0.0627\n",
      "Epoch 78/200\n",
      "348/348 [==============================] - 0s 723us/sample - loss: 0.0025 - mae: 0.0536 - val_loss: 0.0030 - val_mae: 0.0627\n",
      "Epoch 79/200\n",
      "348/348 [==============================] - 0s 676us/sample - loss: 0.0025 - mae: 0.0536 - val_loss: 0.0030 - val_mae: 0.0631\n",
      "Epoch 80/200\n",
      "348/348 [==============================] - 0s 674us/sample - loss: 0.0025 - mae: 0.0534 - val_loss: 0.0029 - val_mae: 0.0624\n",
      "Epoch 81/200\n",
      "348/348 [==============================] - 0s 685us/sample - loss: 0.0025 - mae: 0.0533 - val_loss: 0.0029 - val_mae: 0.0623\n",
      "Epoch 82/200\n",
      "348/348 [==============================] - 0s 672us/sample - loss: 0.0025 - mae: 0.0532 - val_loss: 0.0030 - val_mae: 0.0626\n",
      "Epoch 83/200\n",
      "348/348 [==============================] - 0s 659us/sample - loss: 0.0025 - mae: 0.0531 - val_loss: 0.0030 - val_mae: 0.0626\n",
      "Epoch 84/200\n",
      "348/348 [==============================] - 0s 665us/sample - loss: 0.0025 - mae: 0.0530 - val_loss: 0.0029 - val_mae: 0.0624\n",
      "Epoch 85/200\n",
      "348/348 [==============================] - 0s 670us/sample - loss: 0.0025 - mae: 0.0531 - val_loss: 0.0029 - val_mae: 0.0620\n",
      "Epoch 86/200\n",
      "348/348 [==============================] - 0s 662us/sample - loss: 0.0025 - mae: 0.0529 - val_loss: 0.0029 - val_mae: 0.0624\n",
      "Epoch 87/200\n",
      "348/348 [==============================] - 0s 663us/sample - loss: 0.0024 - mae: 0.0528 - val_loss: 0.0029 - val_mae: 0.0621\n",
      "Epoch 88/200\n",
      "348/348 [==============================] - 0s 659us/sample - loss: 0.0024 - mae: 0.0527 - val_loss: 0.0029 - val_mae: 0.0621\n",
      "Epoch 89/200\n",
      "348/348 [==============================] - 0s 653us/sample - loss: 0.0024 - mae: 0.0526 - val_loss: 0.0029 - val_mae: 0.0620\n",
      "Epoch 90/200\n",
      "348/348 [==============================] - 0s 657us/sample - loss: 0.0024 - mae: 0.0525 - val_loss: 0.0029 - val_mae: 0.0619\n",
      "Epoch 91/200\n",
      "348/348 [==============================] - 0s 690us/sample - loss: 0.0024 - mae: 0.0524 - val_loss: 0.0029 - val_mae: 0.0620\n",
      "Epoch 92/200\n",
      "348/348 [==============================] - 0s 667us/sample - loss: 0.0024 - mae: 0.0524 - val_loss: 0.0029 - val_mae: 0.0617\n",
      "Epoch 93/200\n",
      "348/348 [==============================] - 0s 666us/sample - loss: 0.0024 - mae: 0.0524 - val_loss: 0.0029 - val_mae: 0.0616\n",
      "Epoch 94/200\n",
      "348/348 [==============================] - 0s 656us/sample - loss: 0.0024 - mae: 0.0522 - val_loss: 0.0029 - val_mae: 0.0619\n",
      "Epoch 95/200\n",
      "348/348 [==============================] - 0s 671us/sample - loss: 0.0024 - mae: 0.0522 - val_loss: 0.0029 - val_mae: 0.0618\n",
      "Epoch 96/200\n",
      "348/348 [==============================] - 0s 657us/sample - loss: 0.0024 - mae: 0.0521 - val_loss: 0.0029 - val_mae: 0.0615\n",
      "Epoch 97/200\n",
      "348/348 [==============================] - 0s 654us/sample - loss: 0.0024 - mae: 0.0522 - val_loss: 0.0029 - val_mae: 0.0616\n",
      "Epoch 98/200\n",
      "348/348 [==============================] - 0s 719us/sample - loss: 0.0024 - mae: 0.0520 - val_loss: 0.0029 - val_mae: 0.0618\n",
      "Epoch 99/200\n",
      "348/348 [==============================] - 0s 693us/sample - loss: 0.0024 - mae: 0.0519 - val_loss: 0.0029 - val_mae: 0.0615\n",
      "Epoch 100/200\n",
      "348/348 [==============================] - 0s 672us/sample - loss: 0.0024 - mae: 0.0520 - val_loss: 0.0028 - val_mae: 0.0614\n",
      "Epoch 101/200\n",
      "348/348 [==============================] - 0s 653us/sample - loss: 0.0024 - mae: 0.0519 - val_loss: 0.0028 - val_mae: 0.0614\n",
      "Epoch 102/200\n",
      "348/348 [==============================] - 0s 677us/sample - loss: 0.0023 - mae: 0.0518 - val_loss: 0.0029 - val_mae: 0.0615\n",
      "Epoch 103/200\n",
      "348/348 [==============================] - 0s 672us/sample - loss: 0.0023 - mae: 0.0518 - val_loss: 0.0028 - val_mae: 0.0613\n",
      "Epoch 104/200\n",
      "348/348 [==============================] - 0s 672us/sample - loss: 0.0023 - mae: 0.0517 - val_loss: 0.0028 - val_mae: 0.0614\n",
      "Epoch 105/200\n",
      "348/348 [==============================] - 0s 666us/sample - loss: 0.0023 - mae: 0.0519 - val_loss: 0.0028 - val_mae: 0.0611\n",
      "Epoch 106/200\n",
      "348/348 [==============================] - 0s 675us/sample - loss: 0.0023 - mae: 0.0518 - val_loss: 0.0028 - val_mae: 0.0611\n",
      "Epoch 107/200\n",
      "348/348 [==============================] - 0s 690us/sample - loss: 0.0023 - mae: 0.0516 - val_loss: 0.0028 - val_mae: 0.0613\n",
      "Epoch 108/200\n",
      "348/348 [==============================] - 0s 649us/sample - loss: 0.0023 - mae: 0.0516 - val_loss: 0.0028 - val_mae: 0.0613\n",
      "Epoch 109/200\n",
      "348/348 [==============================] - 0s 668us/sample - loss: 0.0023 - mae: 0.0514 - val_loss: 0.0028 - val_mae: 0.0613\n",
      "Epoch 110/200\n",
      "348/348 [==============================] - 0s 679us/sample - loss: 0.0023 - mae: 0.0514 - val_loss: 0.0028 - val_mae: 0.0612\n",
      "Epoch 111/200\n",
      "348/348 [==============================] - 0s 670us/sample - loss: 0.0023 - mae: 0.0513 - val_loss: 0.0028 - val_mae: 0.0611\n",
      "Epoch 112/200\n",
      "348/348 [==============================] - 0s 663us/sample - loss: 0.0023 - mae: 0.0514 - val_loss: 0.0028 - val_mae: 0.0610\n",
      "Epoch 113/200\n",
      "348/348 [==============================] - 0s 662us/sample - loss: 0.0023 - mae: 0.0513 - val_loss: 0.0028 - val_mae: 0.0611\n",
      "Epoch 114/200\n",
      "348/348 [==============================] - 0s 680us/sample - loss: 0.0023 - mae: 0.0512 - val_loss: 0.0028 - val_mae: 0.0611\n",
      "Epoch 115/200\n",
      "348/348 [==============================] - 0s 684us/sample - loss: 0.0023 - mae: 0.0512 - val_loss: 0.0028 - val_mae: 0.0610\n",
      "Epoch 116/200\n",
      "348/348 [==============================] - 0s 664us/sample - loss: 0.0023 - mae: 0.0512 - val_loss: 0.0028 - val_mae: 0.0610\n",
      "Epoch 117/200\n",
      "348/348 [==============================] - 0s 670us/sample - loss: 0.0023 - mae: 0.0512 - val_loss: 0.0028 - val_mae: 0.0609\n",
      "Epoch 118/200\n",
      "348/348 [==============================] - 0s 679us/sample - loss: 0.0023 - mae: 0.0511 - val_loss: 0.0028 - val_mae: 0.0610\n",
      "Epoch 119/200\n",
      "348/348 [==============================] - 0s 694us/sample - loss: 0.0023 - mae: 0.0511 - val_loss: 0.0028 - val_mae: 0.0609\n",
      "Epoch 120/200\n",
      "348/348 [==============================] - 0s 664us/sample - loss: 0.0023 - mae: 0.0510 - val_loss: 0.0028 - val_mae: 0.0608\n",
      "Epoch 121/200\n",
      "348/348 [==============================] - 0s 672us/sample - loss: 0.0023 - mae: 0.0511 - val_loss: 0.0028 - val_mae: 0.0607\n",
      "Epoch 122/200\n",
      "348/348 [==============================] - 0s 675us/sample - loss: 0.0023 - mae: 0.0510 - val_loss: 0.0028 - val_mae: 0.0608\n",
      "Epoch 123/200\n",
      "348/348 [==============================] - 0s 649us/sample - loss: 0.0023 - mae: 0.0510 - val_loss: 0.0028 - val_mae: 0.0609\n",
      "Epoch 124/200\n",
      "348/348 [==============================] - 0s 694us/sample - loss: 0.0023 - mae: 0.0509 - val_loss: 0.0028 - val_mae: 0.0607\n",
      "Epoch 125/200\n",
      "348/348 [==============================] - 0s 671us/sample - loss: 0.0023 - mae: 0.0509 - val_loss: 0.0028 - val_mae: 0.0608\n",
      "Epoch 126/200\n",
      "348/348 [==============================] - 0s 693us/sample - loss: 0.0023 - mae: 0.0509 - val_loss: 0.0028 - val_mae: 0.0606\n",
      "Epoch 127/200\n",
      "348/348 [==============================] - 0s 672us/sample - loss: 0.0023 - mae: 0.0509 - val_loss: 0.0028 - val_mae: 0.0608\n",
      "Epoch 128/200\n",
      "348/348 [==============================] - 0s 731us/sample - loss: 0.0023 - mae: 0.0508 - val_loss: 0.0028 - val_mae: 0.0607\n",
      "Epoch 129/200\n",
      "348/348 [==============================] - 0s 734us/sample - loss: 0.0023 - mae: 0.0508 - val_loss: 0.0028 - val_mae: 0.0607\n",
      "Epoch 130/200\n",
      "348/348 [==============================] - 0s 681us/sample - loss: 0.0023 - mae: 0.0507 - val_loss: 0.0028 - val_mae: 0.0608\n",
      "Epoch 131/200\n",
      "348/348 [==============================] - 0s 693us/sample - loss: 0.0023 - mae: 0.0507 - val_loss: 0.0028 - val_mae: 0.0607\n",
      "Epoch 132/200\n",
      "348/348 [==============================] - 0s 693us/sample - loss: 0.0023 - mae: 0.0508 - val_loss: 0.0028 - val_mae: 0.0606\n",
      "Epoch 133/200\n",
      "348/348 [==============================] - 0s 691us/sample - loss: 0.0022 - mae: 0.0507 - val_loss: 0.0028 - val_mae: 0.0607\n",
      "Epoch 134/200\n",
      "348/348 [==============================] - 0s 662us/sample - loss: 0.0022 - mae: 0.0506 - val_loss: 0.0028 - val_mae: 0.0607\n",
      "Epoch 135/200\n",
      "348/348 [==============================] - 0s 659us/sample - loss: 0.0022 - mae: 0.0506 - val_loss: 0.0028 - val_mae: 0.0607\n",
      "Epoch 136/200\n",
      "348/348 [==============================] - 0s 688us/sample - loss: 0.0022 - mae: 0.0506 - val_loss: 0.0028 - val_mae: 0.0605\n",
      "Epoch 137/200\n",
      "348/348 [==============================] - 0s 669us/sample - loss: 0.0022 - mae: 0.0506 - val_loss: 0.0028 - val_mae: 0.0605\n",
      "Epoch 138/200\n",
      "348/348 [==============================] - 0s 679us/sample - loss: 0.0022 - mae: 0.0506 - val_loss: 0.0028 - val_mae: 0.0605\n",
      "Epoch 139/200\n",
      "348/348 [==============================] - 0s 673us/sample - loss: 0.0022 - mae: 0.0506 - val_loss: 0.0028 - val_mae: 0.0605\n",
      "Epoch 140/200\n",
      "348/348 [==============================] - 0s 714us/sample - loss: 0.0022 - mae: 0.0505 - val_loss: 0.0028 - val_mae: 0.0605\n",
      "Epoch 141/200\n",
      "348/348 [==============================] - 0s 679us/sample - loss: 0.0022 - mae: 0.0505 - val_loss: 0.0028 - val_mae: 0.0605\n",
      "Epoch 142/200\n",
      "348/348 [==============================] - 0s 657us/sample - loss: 0.0022 - mae: 0.0505 - val_loss: 0.0028 - val_mae: 0.0605\n",
      "Epoch 143/200\n",
      "348/348 [==============================] - 0s 662us/sample - loss: 0.0022 - mae: 0.0505 - val_loss: 0.0028 - val_mae: 0.0605\n",
      "Epoch 144/200\n",
      "348/348 [==============================] - 0s 663us/sample - loss: 0.0022 - mae: 0.0504 - val_loss: 0.0028 - val_mae: 0.0604\n",
      "Epoch 145/200\n",
      "348/348 [==============================] - 0s 711us/sample - loss: 0.0022 - mae: 0.0505 - val_loss: 0.0028 - val_mae: 0.0604\n",
      "Epoch 146/200\n",
      "348/348 [==============================] - 0s 663us/sample - loss: 0.0022 - mae: 0.0505 - val_loss: 0.0027 - val_mae: 0.0602\n",
      "Epoch 147/200\n",
      "348/348 [==============================] - 0s 670us/sample - loss: 0.0022 - mae: 0.0505 - val_loss: 0.0027 - val_mae: 0.0602\n",
      "Epoch 148/200\n",
      "348/348 [==============================] - 0s 688us/sample - loss: 0.0022 - mae: 0.0504 - val_loss: 0.0028 - val_mae: 0.0604\n",
      "Epoch 149/200\n",
      "348/348 [==============================] - 0s 685us/sample - loss: 0.0022 - mae: 0.0504 - val_loss: 0.0028 - val_mae: 0.0604\n",
      "Epoch 150/200\n",
      "348/348 [==============================] - 0s 672us/sample - loss: 0.0022 - mae: 0.0503 - val_loss: 0.0027 - val_mae: 0.0603\n",
      "Epoch 151/200\n",
      "348/348 [==============================] - 0s 669us/sample - loss: 0.0022 - mae: 0.0503 - val_loss: 0.0028 - val_mae: 0.0604\n",
      "Epoch 152/200\n",
      "348/348 [==============================] - 0s 695us/sample - loss: 0.0022 - mae: 0.0503 - val_loss: 0.0027 - val_mae: 0.0603\n",
      "Epoch 153/200\n",
      "348/348 [==============================] - 0s 676us/sample - loss: 0.0022 - mae: 0.0503 - val_loss: 0.0027 - val_mae: 0.0603\n",
      "Epoch 154/200\n",
      "348/348 [==============================] - 0s 669us/sample - loss: 0.0022 - mae: 0.0503 - val_loss: 0.0027 - val_mae: 0.0603\n",
      "Epoch 155/200\n",
      "348/348 [==============================] - 0s 691us/sample - loss: 0.0022 - mae: 0.0503 - val_loss: 0.0028 - val_mae: 0.0603\n",
      "Epoch 156/200\n",
      "348/348 [==============================] - 0s 689us/sample - loss: 0.0022 - mae: 0.0502 - val_loss: 0.0027 - val_mae: 0.0603\n",
      "Epoch 157/200\n",
      "348/348 [==============================] - 0s 673us/sample - loss: 0.0022 - mae: 0.0502 - val_loss: 0.0028 - val_mae: 0.0603\n",
      "Epoch 158/200\n",
      "348/348 [==============================] - 0s 674us/sample - loss: 0.0022 - mae: 0.0502 - val_loss: 0.0028 - val_mae: 0.0603\n",
      "Epoch 159/200\n",
      "348/348 [==============================] - 0s 687us/sample - loss: 0.0022 - mae: 0.0502 - val_loss: 0.0027 - val_mae: 0.0602\n",
      "Epoch 160/200\n",
      "348/348 [==============================] - 0s 650us/sample - loss: 0.0022 - mae: 0.0502 - val_loss: 0.0027 - val_mae: 0.0602\n",
      "Epoch 161/200\n",
      "348/348 [==============================] - 0s 729us/sample - loss: 0.0022 - mae: 0.0502 - val_loss: 0.0027 - val_mae: 0.0602\n",
      "Epoch 162/200\n",
      "348/348 [==============================] - 0s 705us/sample - loss: 0.0022 - mae: 0.0502 - val_loss: 0.0027 - val_mae: 0.0603\n",
      "Epoch 163/200\n",
      "348/348 [==============================] - 0s 698us/sample - loss: 0.0022 - mae: 0.0502 - val_loss: 0.0027 - val_mae: 0.0602\n",
      "Epoch 164/200\n",
      "348/348 [==============================] - 0s 667us/sample - loss: 0.0022 - mae: 0.0502 - val_loss: 0.0027 - val_mae: 0.0602\n",
      "Epoch 165/200\n",
      "348/348 [==============================] - 0s 694us/sample - loss: 0.0022 - mae: 0.0501 - val_loss: 0.0027 - val_mae: 0.0602\n",
      "Epoch 166/200\n",
      "348/348 [==============================] - 0s 717us/sample - loss: 0.0022 - mae: 0.0501 - val_loss: 0.0027 - val_mae: 0.0602\n",
      "Epoch 167/200\n",
      "348/348 [==============================] - 0s 684us/sample - loss: 0.0022 - mae: 0.0501 - val_loss: 0.0027 - val_mae: 0.0602\n",
      "Epoch 168/200\n",
      "348/348 [==============================] - 0s 665us/sample - loss: 0.0022 - mae: 0.0501 - val_loss: 0.0027 - val_mae: 0.0602\n",
      "Epoch 169/200\n",
      "348/348 [==============================] - 0s 750us/sample - loss: 0.0022 - mae: 0.0501 - val_loss: 0.0027 - val_mae: 0.0602\n",
      "Epoch 170/200\n",
      "348/348 [==============================] - 0s 709us/sample - loss: 0.0022 - mae: 0.0501 - val_loss: 0.0027 - val_mae: 0.0602\n",
      "Epoch 171/200\n",
      "348/348 [==============================] - 0s 712us/sample - loss: 0.0022 - mae: 0.0501 - val_loss: 0.0027 - val_mae: 0.0601\n",
      "Epoch 172/200\n",
      "348/348 [==============================] - 0s 660us/sample - loss: 0.0022 - mae: 0.0501 - val_loss: 0.0027 - val_mae: 0.0601\n",
      "Epoch 173/200\n",
      "348/348 [==============================] - 0s 679us/sample - loss: 0.0022 - mae: 0.0501 - val_loss: 0.0027 - val_mae: 0.0601\n",
      "Epoch 174/200\n",
      "348/348 [==============================] - 0s 673us/sample - loss: 0.0022 - mae: 0.0501 - val_loss: 0.0027 - val_mae: 0.0601\n",
      "Epoch 175/200\n",
      "348/348 [==============================] - 0s 672us/sample - loss: 0.0022 - mae: 0.0501 - val_loss: 0.0027 - val_mae: 0.0601\n",
      "Epoch 176/200\n",
      "348/348 [==============================] - 0s 655us/sample - loss: 0.0022 - mae: 0.0500 - val_loss: 0.0027 - val_mae: 0.0601\n",
      "Epoch 177/200\n",
      "348/348 [==============================] - 0s 670us/sample - loss: 0.0022 - mae: 0.0501 - val_loss: 0.0027 - val_mae: 0.0601\n",
      "Epoch 178/200\n",
      "348/348 [==============================] - 0s 678us/sample - loss: 0.0022 - mae: 0.0500 - val_loss: 0.0027 - val_mae: 0.0600\n",
      "Epoch 179/200\n",
      "348/348 [==============================] - 0s 719us/sample - loss: 0.0022 - mae: 0.0500 - val_loss: 0.0027 - val_mae: 0.0600\n",
      "Epoch 180/200\n",
      "348/348 [==============================] - 0s 747us/sample - loss: 0.0022 - mae: 0.0500 - val_loss: 0.0027 - val_mae: 0.0600\n",
      "Epoch 181/200\n",
      "348/348 [==============================] - 0s 730us/sample - loss: 0.0022 - mae: 0.0500 - val_loss: 0.0027 - val_mae: 0.0600\n",
      "Epoch 182/200\n",
      "348/348 [==============================] - 0s 697us/sample - loss: 0.0022 - mae: 0.0500 - val_loss: 0.0027 - val_mae: 0.0600\n",
      "Epoch 183/200\n",
      "348/348 [==============================] - 0s 676us/sample - loss: 0.0022 - mae: 0.0500 - val_loss: 0.0027 - val_mae: 0.0600\n",
      "Epoch 184/200\n",
      "348/348 [==============================] - 0s 665us/sample - loss: 0.0022 - mae: 0.0500 - val_loss: 0.0027 - val_mae: 0.0600\n",
      "Epoch 185/200\n",
      "348/348 [==============================] - 0s 704us/sample - loss: 0.0022 - mae: 0.0500 - val_loss: 0.0027 - val_mae: 0.0600\n",
      "Epoch 186/200\n",
      "348/348 [==============================] - 0s 660us/sample - loss: 0.0022 - mae: 0.0500 - val_loss: 0.0027 - val_mae: 0.0600\n",
      "Epoch 187/200\n",
      "348/348 [==============================] - 0s 695us/sample - loss: 0.0022 - mae: 0.0500 - val_loss: 0.0027 - val_mae: 0.0600\n",
      "Epoch 188/200\n",
      "348/348 [==============================] - 0s 733us/sample - loss: 0.0022 - mae: 0.0499 - val_loss: 0.0027 - val_mae: 0.0600\n",
      "Epoch 189/200\n",
      "348/348 [==============================] - 0s 690us/sample - loss: 0.0022 - mae: 0.0499 - val_loss: 0.0027 - val_mae: 0.0600\n",
      "Epoch 190/200\n",
      "348/348 [==============================] - 0s 702us/sample - loss: 0.0022 - mae: 0.0499 - val_loss: 0.0027 - val_mae: 0.0600\n",
      "Epoch 191/200\n",
      "348/348 [==============================] - 0s 695us/sample - loss: 0.0022 - mae: 0.0499 - val_loss: 0.0027 - val_mae: 0.0600\n",
      "Epoch 192/200\n",
      "348/348 [==============================] - 0s 705us/sample - loss: 0.0022 - mae: 0.0499 - val_loss: 0.0027 - val_mae: 0.0600\n",
      "Epoch 193/200\n",
      "348/348 [==============================] - 0s 721us/sample - loss: 0.0022 - mae: 0.0499 - val_loss: 0.0027 - val_mae: 0.0600\n",
      "Epoch 194/200\n",
      "348/348 [==============================] - 0s 692us/sample - loss: 0.0022 - mae: 0.0499 - val_loss: 0.0027 - val_mae: 0.0600\n",
      "Epoch 195/200\n",
      "348/348 [==============================] - 0s 691us/sample - loss: 0.0022 - mae: 0.0499 - val_loss: 0.0027 - val_mae: 0.0600\n",
      "Epoch 196/200\n",
      "348/348 [==============================] - 0s 687us/sample - loss: 0.0022 - mae: 0.0499 - val_loss: 0.0027 - val_mae: 0.0600\n",
      "Epoch 197/200\n",
      "348/348 [==============================] - 0s 716us/sample - loss: 0.0022 - mae: 0.0499 - val_loss: 0.0027 - val_mae: 0.0599\n",
      "Epoch 198/200\n",
      "348/348 [==============================] - 0s 725us/sample - loss: 0.0022 - mae: 0.0499 - val_loss: 0.0027 - val_mae: 0.0599\n",
      "Epoch 199/200\n",
      "348/348 [==============================] - 0s 708us/sample - loss: 0.0022 - mae: 0.0499 - val_loss: 0.0027 - val_mae: 0.0599\n",
      "Epoch 200/200\n",
      "348/348 [==============================] - 0s 694us/sample - loss: 0.0022 - mae: 0.0499 - val_loss: 0.0027 - val_mae: 0.0599\n"
     ]
    }
   ],
   "source": [
    "history = mod.fit(X_train, \n",
    "          y_train, \n",
    "          epochs=epoch, \n",
    "          batch_size=bs, \n",
    "          validation_split=0.2,\n",
    "          verbose=1,\n",
    "          callbacks=[lr_sched])"
   ]
  },
  {
   "cell_type": "code",
   "execution_count": 19,
   "metadata": {},
   "outputs": [
    {
     "name": "stdout",
     "output_type": "stream",
     "text": []
    },
    {
     "name": "stdout",
     "output_type": "stream",
     "text": [
      "108/1 [========================================================================================================================================================================================================================================================================================================================================================================================================================================================================================================================================================================================================================================================================================================================================================================================================================================================================================================================================================================================================================================================================================================================================================================================================================================================================================================================================================================================================================================================================================================================================================================================================================================================================================================================================================================================================================================================================================================================================================================================================================================================================================================================================================================================================================================================================================================================================================================================================================================================================================================================================================================================================================================================================================================================================================================================================================================================================================================================================================================================================================================================================================================================================================================================================================================================================================================================================================================] - 0s 147us/sample - loss: 0.0014 - mae: 0.0475\n"
     ]
    },
    {
     "data": {
      "text/plain": [
       "[0.0017767373011102555, 0.047481555]"
      ]
     },
     "execution_count": 19,
     "metadata": {},
     "output_type": "execute_result"
    }
   ],
   "source": [
    "mod.evaluate(X_test, y_test)"
   ]
  },
  {
   "cell_type": "code",
   "execution_count": 20,
   "metadata": {},
   "outputs": [
    {
     "data": {
      "text/plain": [
       "(200, 4.2282826e-07)"
      ]
     },
     "execution_count": 20,
     "metadata": {},
     "output_type": "execute_result"
    }
   ],
   "source": [
    "len(history.history[\"lr\"]), history.history[\"lr\"][-1]"
   ]
  },
  {
   "cell_type": "code",
   "execution_count": 21,
   "metadata": {},
   "outputs": [
    {
     "data": {
      "text/plain": [
       "[<matplotlib.lines.Line2D at 0x7f87ac5a4748>]"
      ]
     },
     "execution_count": 21,
     "metadata": {},
     "output_type": "execute_result"
    },
    {
     "data": {
      "image/png": "[encoded data removed]",
      "text/plain": [
       "<Figure size 432x288 with 1 Axes>"
      ]
     },
     "metadata": {
      "needs_background": "light"
     },
     "output_type": "display_data"
    }
   ],
   "source": [
    "plt.semilogx(history.history[\"lr\"], history.history[\"loss\"])\n",
    "#plt.axis([1e-5, 1, 0, 10])"
   ]
  },
  {
   "cell_type": "code",
   "execution_count": 22,
   "metadata": {},
   "outputs": [],
   "source": [
    "def plot_series(time, series, format=\"-\", start=0, end=None, label=\"Data\"):\n",
    "    plt.plot(time[start:end], series[start:end], format, label=label)\n",
    "    plt.xlabel(\"Time\")\n",
    "    plt.ylabel(\"Value\")\n",
    "    plt.grid(True)"
   ]
  },
  {
   "cell_type": "code",
   "execution_count": 23,
   "metadata": {},
   "outputs": [
    {
     "data": {
      "text/plain": [
       "<matplotlib.legend.Legend at 0x7f8706c06908>"
      ]
     },
     "execution_count": 23,
     "metadata": {},
     "output_type": "execute_result"
    },
    {
     "data": {
      "image/png": "[encoded data removed]",
      "text/plain": [
       "<Figure size 720x432 with 1 Axes>"
      ]
     },
     "metadata": {
      "needs_background": "light"
     },
     "output_type": "display_data"
    }
   ],
   "source": [
    "forecast=[]\n",
    "for time in range(len(ser_scl) - look_back):\n",
    "  forecast.append(mod.predict(ser_scl[time:time + look_back][np.newaxis]))\n",
    "\n",
    "forecast = forecast[split_time - look_back:]\n",
    "results = np.array(forecast)[:, 0, 0]\n",
    "\n",
    "\n",
    "plt.figure(figsize=(10, 6))\n",
    "\n",
    "\n",
    "plot_series(time_valid, ser_scl[split_time:], label=\"Actual\")\n",
    "plot_series(time_valid, results, label=\"Prediction\")\n",
    "plt.legend()"
   ]
  },
  {
   "cell_type": "markdown",
   "metadata": {},
   "source": [
    "# Hyperparameter Optimization using keras-tuner"
   ]
  },
  {
   "cell_type": "markdown",
   "metadata": {},
   "source": [
    "Tune:\n",
    " - Number of hidden units in SimpleRNN.\n",
    " - Learning rate: 1e-6, 1e-5, 1e-4."
   ]
  },
  {
   "cell_type": "code",
   "execution_count": 24,
   "metadata": {},
   "outputs": [],
   "source": [
    "tf.keras.backend.clear_session()\n",
    "tf.random.set_seed(123)\n",
    "np.random.seed(123)"
   ]
  },
  {
   "cell_type": "code",
   "execution_count": 25,
   "metadata": {},
   "outputs": [],
   "source": [
    "def build_model(hp):\n",
    "    model = keras.Sequential()\n",
    "    model.add(layers.SimpleRNN(\n",
    "        input_shape = (X_train.shape[1], X_train.shape[2]),                        \n",
    "        units=hp.Int('units', min_value=20, max_value=100, step=20),\n",
    "        return_sequences=True))\n",
    "    model.add(layers.SimpleRNN(40))\n",
    "    model.add(layers.Dense(1))\n",
    "    model.compile(\n",
    "        optimizer=keras.optimizers.Adam(\n",
    "            hp.Choice('learning_rate',\n",
    "                      values=[1e-4, 1e-5, 1e-6])),\n",
    "        loss=keras.losses.Huber(),\n",
    "        metrics=['mae'])\n",
    "    return model"
   ]
  },
  {
   "cell_type": "code",
   "execution_count": 26,
   "metadata": {},
   "outputs": [
    {
     "data": {
      "text/html": [
       "<span style=\"color:#4527A0\"><h1 style=\"font-size:18px\">Search space summary</h1></span>"
      ],
      "text/plain": [
       "<IPython.core.display.HTML object>"
      ]
     },
     "metadata": {},
     "output_type": "display_data"
    },
    {
     "data": {
      "text/html": [
       "<span style=\"color:cyan\"> |-Default search space size: 2</span>"
      ],
      "text/plain": [
       "<IPython.core.display.HTML object>"
      ]
     },
     "metadata": {},
     "output_type": "display_data"
    },
    {
     "data": {
      "text/html": [
       "<span style=\"color:#7E57C2\"><h2 style=\"font-size:16px\">units (Int)</h2></span>"
      ],
      "text/plain": [
       "<IPython.core.display.HTML object>"
      ]
     },
     "metadata": {},
     "output_type": "display_data"
    },
    {
     "data": {
      "text/html": [
       "<span style=\"color:cyan\"> |-default: None</span>"
      ],
      "text/plain": [
       "<IPython.core.display.HTML object>"
      ]
     },
     "metadata": {},
     "output_type": "display_data"
    },
    {
     "data": {
      "text/html": [
       "<span style=\"color:blue\"> |-max_value: 100</span>"
      ],
      "text/plain": [
       "<IPython.core.display.HTML object>"
      ]
     },
     "metadata": {},
     "output_type": "display_data"
    },
    {
     "data": {
      "text/html": [
       "<span style=\"color:cyan\"> |-min_value: 20</span>"
      ],
      "text/plain": [
       "<IPython.core.display.HTML object>"
      ]
     },
     "metadata": {},
     "output_type": "display_data"
    },
    {
     "data": {
      "text/html": [
       "<span style=\"color:blue\"> |-sampling: None</span>"
      ],
      "text/plain": [
       "<IPython.core.display.HTML object>"
      ]
     },
     "metadata": {},
     "output_type": "display_data"
    },
    {
     "data": {
      "text/html": [
       "<span style=\"color:cyan\"> |-step: 20</span>"
      ],
      "text/plain": [
       "<IPython.core.display.HTML object>"
      ]
     },
     "metadata": {},
     "output_type": "display_data"
    },
    {
     "data": {
      "text/html": [
       "<span style=\"color:#7E57C2\"><h2 style=\"font-size:16px\">learning_rate (Choice)</h2></span>"
      ],
      "text/plain": [
       "<IPython.core.display.HTML object>"
      ]
     },
     "metadata": {},
     "output_type": "display_data"
    },
    {
     "data": {
      "text/html": [
       "<span style=\"color:cyan\"> |-default: 0.0001</span>"
      ],
      "text/plain": [
       "<IPython.core.display.HTML object>"
      ]
     },
     "metadata": {},
     "output_type": "display_data"
    },
    {
     "data": {
      "text/html": [
       "<span style=\"color:blue\"> |-ordered: True</span>"
      ],
      "text/plain": [
       "<IPython.core.display.HTML object>"
      ]
     },
     "metadata": {},
     "output_type": "display_data"
    },
    {
     "data": {
      "text/html": [
       "<span style=\"color:cyan\"> |-values: [0.0001, 1e-05, 1e-06]</span>"
      ],
      "text/plain": [
       "<IPython.core.display.HTML object>"
      ]
     },
     "metadata": {},
     "output_type": "display_data"
    }
   ],
   "source": [
    "tuner = RandomSearch(\n",
    "    build_model,\n",
    "    objective='mae',\n",
    "    max_trials=TRIALS,\n",
    "    executions_per_trial=2,\n",
    "    directory='test_dir')\n",
    "\n",
    "tuner.search_space_summary()"
   ]
  },
  {
   "cell_type": "code",
   "execution_count": 27,
   "metadata": {},
   "outputs": [
    {
     "data": {
      "text/html": [
       "<span style=\"color:#4527A0\"><h1 style=\"font-size:18px\">New model</h1></span>"
      ],
      "text/plain": [
       "<IPython.core.display.HTML object>"
      ]
     },
     "metadata": {},
     "output_type": "display_data"
    },
    {
     "data": {
      "text/html": [
       "<span style=\"color:#4527A0\"><h1 style=\"font-size:18px\">Trial summary</h1></span>"
      ],
      "text/plain": [
       "<IPython.core.display.HTML object>"
      ]
     },
     "metadata": {},
     "output_type": "display_data"
    },
    {
     "data": {
      "text/html": [
       "<span style=\"color:#7E57C2\"><h2 style=\"font-size:16px\">Hp values:</h2></span>"
      ],
      "text/plain": [
       "<IPython.core.display.HTML object>"
      ]
     },
     "metadata": {},
     "output_type": "display_data"
    },
    {
     "data": {
      "text/html": [
       "<span style=\"color:cyan\"> |-learning_rate: 1e-06</span>"
      ],
      "text/plain": [
       "<IPython.core.display.HTML object>"
      ]
     },
     "metadata": {},
     "output_type": "display_data"
    },
    {
     "data": {
      "text/html": [
       "<span style=\"color:blue\"> |-units: 60</span>"
      ],
      "text/plain": [
       "<IPython.core.display.HTML object>"
      ]
     },
     "metadata": {},
     "output_type": "display_data"
    },
    {
     "data": {
      "text/html": [
       "<span style=\"color:#7E57C2\"><h2 style=\"font-size:16px\">Execution 1/2</h2></span>"
      ],
      "text/plain": [
       "<IPython.core.display.HTML object>"
      ]
     },
     "metadata": {},
     "output_type": "display_data"
    },
    {
     "data": {
      "application/vnd.jupyter.widget-view+json": {
       "model_id": "4453a93e787b48dca78e18fbc0eea3c7",
       "version_major": 2,
       "version_minor": 0
      },
      "text/plain": [
       "HBox(children=(IntProgress(value=0, max=14), HTML(value='')))"
      ]
     },
     "metadata": {},
     "output_type": "display_data"
    },
    {
     "name": "stdout",
     "output_type": "stream",
     "text": [
      "\n"
     ]
    },
    {
     "data": {
      "application/vnd.jupyter.widget-view+json": {
       "model_id": "9ca5fb0d3d80404fa1a6adc20b5295a0",
       "version_major": 2,
       "version_minor": 0
      },
      "text/plain": [
       "HBox(children=(IntProgress(value=0, max=14), HTML(value='')))"
      ]
     },
     "metadata": {},
     "output_type": "display_data"
    },
    {
     "name": "stdout",
     "output_type": "stream",
     "text": [
      "\n"
     ]
    },
    {
     "data": {
      "text/html": [
       "<span style=\"color:#7E57C2\"><h2 style=\"font-size:16px\">Execution 2/2</h2></span>"
      ],
      "text/plain": [
       "<IPython.core.display.HTML object>"
      ]
     },
     "metadata": {},
     "output_type": "display_data"
    },
    {
     "data": {
      "application/vnd.jupyter.widget-view+json": {
       "model_id": "7c944792d3c443879d2e150fcf816d48",
       "version_major": 2,
       "version_minor": 0
      },
      "text/plain": [
       "HBox(children=(IntProgress(value=0, max=14), HTML(value='')))"
      ]
     },
     "metadata": {},
     "output_type": "display_data"
    },
    {
     "name": "stdout",
     "output_type": "stream",
     "text": [
      "\n"
     ]
    },
    {
     "data": {
      "application/vnd.jupyter.widget-view+json": {
       "model_id": "7d99322228704c95ae77915f484213e3",
       "version_major": 2,
       "version_minor": 0
      },
      "text/plain": [
       "HBox(children=(IntProgress(value=0, max=14), HTML(value='')))"
      ]
     },
     "metadata": {},
     "output_type": "display_data"
    },
    {
     "name": "stdout",
     "output_type": "stream",
     "text": [
      "\n"
     ]
    },
    {
     "data": {
      "text/html": [
       "<table>\n",
       "<thead>\n",
       "<tr><th>Name                                </th><th>Best model                             </th><th>Current model                          </th></tr>\n",
       "</thead>\n",
       "<tbody>\n",
       "<tr><td><span style=\"color:green\">mae</span></td><td><span style=\"color:green\">0.3264</span></td><td><span style=\"color:green\">0.3264</span></td></tr>\n",
       "<tr><td>loss                                </td><td>0.0713                                 </td><td>0.0713                                 </td></tr>\n",
       "<tr><td>val_loss                            </td><td>0.0667                                 </td><td>0.0667                                 </td></tr>\n",
       "<tr><td>val_mae                             </td><td>0.3229                                 </td><td>0.3229                                 </td></tr>\n",
       "</tbody>\n",
       "</table>"
      ],
      "text/plain": [
       "<IPython.core.display.HTML object>"
      ]
     },
     "metadata": {},
     "output_type": "display_data"
    },
    {
     "data": {
      "text/html": [
       "<span style=\"color:#64DD17\"><span style=\"font-size:14px\"><b>2/3 trials left</b></span></span>"
      ],
      "text/plain": [
       "<IPython.core.display.HTML object>"
      ]
     },
     "metadata": {},
     "output_type": "display_data"
    },
    {
     "data": {
      "text/html": [
       "<span style=\"color:#4527A0\"><h1 style=\"font-size:18px\">New model</h1></span>"
      ],
      "text/plain": [
       "<IPython.core.display.HTML object>"
      ]
     },
     "metadata": {},
     "output_type": "display_data"
    },
    {
     "data": {
      "text/html": [
       "<span style=\"color:#4527A0\"><h1 style=\"font-size:18px\">Trial summary</h1></span>"
      ],
      "text/plain": [
       "<IPython.core.display.HTML object>"
      ]
     },
     "metadata": {},
     "output_type": "display_data"
    },
    {
     "data": {
      "text/html": [
       "<span style=\"color:#7E57C2\"><h2 style=\"font-size:16px\">Hp values:</h2></span>"
      ],
      "text/plain": [
       "<IPython.core.display.HTML object>"
      ]
     },
     "metadata": {},
     "output_type": "display_data"
    },
    {
     "data": {
      "text/html": [
       "<span style=\"color:cyan\"> |-learning_rate: 0.0001</span>"
      ],
      "text/plain": [
       "<IPython.core.display.HTML object>"
      ]
     },
     "metadata": {},
     "output_type": "display_data"
    },
    {
     "data": {
      "text/html": [
       "<span style=\"color:blue\"> |-units: 40</span>"
      ],
      "text/plain": [
       "<IPython.core.display.HTML object>"
      ]
     },
     "metadata": {},
     "output_type": "display_data"
    },
    {
     "data": {
      "text/html": [
       "<span style=\"color:#7E57C2\"><h2 style=\"font-size:16px\">Execution 1/2</h2></span>"
      ],
      "text/plain": [
       "<IPython.core.display.HTML object>"
      ]
     },
     "metadata": {},
     "output_type": "display_data"
    },
    {
     "data": {
      "application/vnd.jupyter.widget-view+json": {
       "model_id": "039c8b5fa2c741c4aa9844d3475b7b03",
       "version_major": 2,
       "version_minor": 0
      },
      "text/plain": [
       "HBox(children=(IntProgress(value=0, max=14), HTML(value='')))"
      ]
     },
     "metadata": {},
     "output_type": "display_data"
    },
    {
     "name": "stdout",
     "output_type": "stream",
     "text": [
      "\n"
     ]
    },
    {
     "data": {
      "application/vnd.jupyter.widget-view+json": {
       "model_id": "dc5ca8a4e40741a288bb5d3ce21185b3",
       "version_major": 2,
       "version_minor": 0
      },
      "text/plain": [
       "HBox(children=(IntProgress(value=0, max=14), HTML(value='')))"
      ]
     },
     "metadata": {},
     "output_type": "display_data"
    },
    {
     "name": "stdout",
     "output_type": "stream",
     "text": [
      "\n"
     ]
    },
    {
     "data": {
      "text/html": [
       "<span style=\"color:#7E57C2\"><h2 style=\"font-size:16px\">Execution 2/2</h2></span>"
      ],
      "text/plain": [
       "<IPython.core.display.HTML object>"
      ]
     },
     "metadata": {},
     "output_type": "display_data"
    },
    {
     "data": {
      "application/vnd.jupyter.widget-view+json": {
       "model_id": "20a547c65f56496aa9492e43a47a2778",
       "version_major": 2,
       "version_minor": 0
      },
      "text/plain": [
       "HBox(children=(IntProgress(value=0, max=14), HTML(value='')))"
      ]
     },
     "metadata": {},
     "output_type": "display_data"
    },
    {
     "name": "stdout",
     "output_type": "stream",
     "text": [
      "\n"
     ]
    },
    {
     "data": {
      "application/vnd.jupyter.widget-view+json": {
       "model_id": "e41e08f9923e4810a8bb069cd2eff044",
       "version_major": 2,
       "version_minor": 0
      },
      "text/plain": [
       "HBox(children=(IntProgress(value=0, max=14), HTML(value='')))"
      ]
     },
     "metadata": {},
     "output_type": "display_data"
    },
    {
     "name": "stdout",
     "output_type": "stream",
     "text": [
      "\n"
     ]
    },
    {
     "data": {
      "text/html": [
       "<table>\n",
       "<thead>\n",
       "<tr><th>Name                              </th><th>Best model                           </th><th>Current model                        </th></tr>\n",
       "</thead>\n",
       "<tbody>\n",
       "<tr><td><span style=\"color:red\">mae</span></td><td><span style=\"color:red\">0.3264</span></td><td><span style=\"color:red\">0.3413</span></td></tr>\n",
       "<tr><td>loss                              </td><td>0.0713                               </td><td>0.105                                </td></tr>\n",
       "<tr><td>val_loss                          </td><td>0.0618                               </td><td>0.0618                               </td></tr>\n",
       "<tr><td>val_mae                           </td><td>0.2716                               </td><td>0.2716                               </td></tr>\n",
       "</tbody>\n",
       "</table>"
      ],
      "text/plain": [
       "<IPython.core.display.HTML object>"
      ]
     },
     "metadata": {},
     "output_type": "display_data"
    },
    {
     "data": {
      "text/html": [
       "<span style=\"color:#64DD17\"><span style=\"font-size:14px\"><b>1/3 trials left</b></span></span>"
      ],
      "text/plain": [
       "<IPython.core.display.HTML object>"
      ]
     },
     "metadata": {},
     "output_type": "display_data"
    },
    {
     "data": {
      "text/html": [
       "<span style=\"color:#4527A0\"><h1 style=\"font-size:18px\">New model</h1></span>"
      ],
      "text/plain": [
       "<IPython.core.display.HTML object>"
      ]
     },
     "metadata": {},
     "output_type": "display_data"
    },
    {
     "data": {
      "text/html": [
       "<span style=\"color:#4527A0\"><h1 style=\"font-size:18px\">Trial summary</h1></span>"
      ],
      "text/plain": [
       "<IPython.core.display.HTML object>"
      ]
     },
     "metadata": {},
     "output_type": "display_data"
    },
    {
     "data": {
      "text/html": [
       "<span style=\"color:#7E57C2\"><h2 style=\"font-size:16px\">Hp values:</h2></span>"
      ],
      "text/plain": [
       "<IPython.core.display.HTML object>"
      ]
     },
     "metadata": {},
     "output_type": "display_data"
    },
    {
     "data": {
      "text/html": [
       "<span style=\"color:cyan\"> |-learning_rate: 1e-06</span>"
      ],
      "text/plain": [
       "<IPython.core.display.HTML object>"
      ]
     },
     "metadata": {},
     "output_type": "display_data"
    },
    {
     "data": {
      "text/html": [
       "<span style=\"color:blue\"> |-units: 40</span>"
      ],
      "text/plain": [
       "<IPython.core.display.HTML object>"
      ]
     },
     "metadata": {},
     "output_type": "display_data"
    },
    {
     "data": {
      "text/html": [
       "<span style=\"color:#7E57C2\"><h2 style=\"font-size:16px\">Execution 1/2</h2></span>"
      ],
      "text/plain": [
       "<IPython.core.display.HTML object>"
      ]
     },
     "metadata": {},
     "output_type": "display_data"
    },
    {
     "data": {
      "application/vnd.jupyter.widget-view+json": {
       "model_id": "0f455b4201294b75a8c54cdc0cd6c762",
       "version_major": 2,
       "version_minor": 0
      },
      "text/plain": [
       "HBox(children=(IntProgress(value=0, max=14), HTML(value='')))"
      ]
     },
     "metadata": {},
     "output_type": "display_data"
    },
    {
     "name": "stdout",
     "output_type": "stream",
     "text": [
      "\n"
     ]
    },
    {
     "data": {
      "application/vnd.jupyter.widget-view+json": {
       "model_id": "53a28c41e59d41cabaa90ad5c527e5b3",
       "version_major": 2,
       "version_minor": 0
      },
      "text/plain": [
       "HBox(children=(IntProgress(value=0, max=14), HTML(value='')))"
      ]
     },
     "metadata": {},
     "output_type": "display_data"
    },
    {
     "name": "stdout",
     "output_type": "stream",
     "text": [
      "\n"
     ]
    },
    {
     "data": {
      "text/html": [
       "<span style=\"color:#7E57C2\"><h2 style=\"font-size:16px\">Execution 2/2</h2></span>"
      ],
      "text/plain": [
       "<IPython.core.display.HTML object>"
      ]
     },
     "metadata": {},
     "output_type": "display_data"
    },
    {
     "data": {
      "application/vnd.jupyter.widget-view+json": {
       "model_id": "051564bdc97b4e09a8a225d337868c09",
       "version_major": 2,
       "version_minor": 0
      },
      "text/plain": [
       "HBox(children=(IntProgress(value=0, max=14), HTML(value='')))"
      ]
     },
     "metadata": {},
     "output_type": "display_data"
    },
    {
     "name": "stdout",
     "output_type": "stream",
     "text": [
      "\n"
     ]
    },
    {
     "data": {
      "application/vnd.jupyter.widget-view+json": {
       "model_id": "8d7b2446eaa94bb18f17c5fd0a44fa1a",
       "version_major": 2,
       "version_minor": 0
      },
      "text/plain": [
       "HBox(children=(IntProgress(value=0, max=14), HTML(value='')))"
      ]
     },
     "metadata": {},
     "output_type": "display_data"
    },
    {
     "name": "stdout",
     "output_type": "stream",
     "text": [
      "\n"
     ]
    },
    {
     "data": {
      "text/html": [
       "<table>\n",
       "<thead>\n",
       "<tr><th>Name                              </th><th>Best model                           </th><th>Current model                        </th></tr>\n",
       "</thead>\n",
       "<tbody>\n",
       "<tr><td><span style=\"color:red\">mae</span></td><td><span style=\"color:red\">0.3264</span></td><td><span style=\"color:red\">0.4498</span></td></tr>\n",
       "<tr><td>loss                              </td><td>0.0713                               </td><td>0.1278                               </td></tr>\n",
       "<tr><td>val_loss                          </td><td>0.0618                               </td><td>0.1436                               </td></tr>\n",
       "<tr><td>val_mae                           </td><td>0.2716                               </td><td>0.5067                               </td></tr>\n",
       "</tbody>\n",
       "</table>"
      ],
      "text/plain": [
       "<IPython.core.display.HTML object>"
      ]
     },
     "metadata": {},
     "output_type": "display_data"
    },
    {
     "data": {
      "text/html": [
       "<span style=\"color:#64DD17\"><span style=\"font-size:14px\"><b>Hypertuning complete - results in test_dir/untitled_project</b></span></span>"
      ],
      "text/plain": [
       "<IPython.core.display.HTML object>"
      ]
     },
     "metadata": {},
     "output_type": "display_data"
    },
    {
     "data": {
      "text/html": [
       "<span style=\"color:#4527A0\"><h1 style=\"font-size:18px\">Results summary</h1></span>"
      ],
      "text/plain": [
       "<IPython.core.display.HTML object>"
      ]
     },
     "metadata": {},
     "output_type": "display_data"
    },
    {
     "data": {
      "text/html": [
       "<span style=\"color:cyan\"> |-Results in test_dir/untitled_project</span>"
      ],
      "text/plain": [
       "<IPython.core.display.HTML object>"
      ]
     },
     "metadata": {},
     "output_type": "display_data"
    },
    {
     "data": {
      "text/html": [
       "<span style=\"color:cyan\"> |-Ran 3 trials</span>"
      ],
      "text/plain": [
       "<IPython.core.display.HTML object>"
      ]
     },
     "metadata": {},
     "output_type": "display_data"
    },
    {
     "data": {
      "text/html": [
       "<span style=\"color:cyan\"> |-Ran 6 executions (2 per trial)</span>"
      ],
      "text/plain": [
       "<IPython.core.display.HTML object>"
      ]
     },
     "metadata": {},
     "output_type": "display_data"
    },
    {
     "data": {
      "text/html": [
       "<span style=\"color:cyan\"> |-Best mae: 0.3264</span>"
      ],
      "text/plain": [
       "<IPython.core.display.HTML object>"
      ]
     },
     "metadata": {},
     "output_type": "display_data"
    }
   ],
   "source": [
    "tuner.search(X_train, \n",
    "             y_train, \n",
    "             epochs=EPOCHS,\n",
    "             validation_data=(X_test, y_test))\n",
    "\n",
    "tuner.results_summary()"
   ]
  },
  {
   "cell_type": "code",
   "execution_count": 28,
   "metadata": {},
   "outputs": [
    {
     "name": "stdout",
     "output_type": "stream",
     "text": [
      "Train on 348 samples, validate on 87 samples\n",
      "Epoch 1/200\n",
      "348/348 [==============================] - 2s 5ms/sample - loss: 0.0586 - mae: 0.2915 - val_loss: 0.0735 - val_mae: 0.3344\n",
      "Epoch 2/200\n",
      "348/348 [==============================] - 0s 695us/sample - loss: 0.0576 - mae: 0.2886 - val_loss: 0.0717 - val_mae: 0.3298\n",
      "Epoch 3/200\n",
      "348/348 [==============================] - 0s 688us/sample - loss: 0.0565 - mae: 0.2859 - val_loss: 0.0700 - val_mae: 0.3255\n",
      "Epoch 4/200\n",
      "348/348 [==============================] - 0s 681us/sample - loss: 0.0555 - mae: 0.2832 - val_loss: 0.0683 - val_mae: 0.3212\n",
      "Epoch 5/200\n",
      "348/348 [==============================] - 0s 669us/sample - loss: 0.0546 - mae: 0.2807 - val_loss: 0.0669 - val_mae: 0.3176\n",
      "Epoch 6/200\n",
      "348/348 [==============================] - 0s 725us/sample - loss: 0.0537 - mae: 0.2780 - val_loss: 0.0654 - val_mae: 0.3137\n",
      "Epoch 7/200\n",
      "348/348 [==============================] - 0s 673us/sample - loss: 0.0528 - mae: 0.2755 - val_loss: 0.0638 - val_mae: 0.3094\n",
      "Epoch 8/200\n",
      "348/348 [==============================] - 0s 685us/sample - loss: 0.0519 - mae: 0.2730 - val_loss: 0.0624 - val_mae: 0.3057\n",
      "Epoch 9/200\n",
      "348/348 [==============================] - 0s 667us/sample - loss: 0.0510 - mae: 0.2706 - val_loss: 0.0610 - val_mae: 0.3019\n",
      "Epoch 10/200\n",
      "348/348 [==============================] - 0s 690us/sample - loss: 0.0502 - mae: 0.2682 - val_loss: 0.0599 - val_mae: 0.2987\n",
      "Epoch 11/200\n",
      "348/348 [==============================] - 0s 677us/sample - loss: 0.0494 - mae: 0.2659 - val_loss: 0.0585 - val_mae: 0.2950\n",
      "Epoch 12/200\n",
      "348/348 [==============================] - 0s 659us/sample - loss: 0.0487 - mae: 0.2636 - val_loss: 0.0574 - val_mae: 0.2918\n",
      "Epoch 13/200\n",
      "348/348 [==============================] - 0s 652us/sample - loss: 0.0479 - mae: 0.2613 - val_loss: 0.0562 - val_mae: 0.2884\n",
      "Epoch 14/200\n",
      "348/348 [==============================] - 0s 673us/sample - loss: 0.0472 - mae: 0.2592 - val_loss: 0.0552 - val_mae: 0.2856\n",
      "Epoch 15/200\n",
      "348/348 [==============================] - 0s 679us/sample - loss: 0.0465 - mae: 0.2571 - val_loss: 0.0541 - val_mae: 0.2825\n",
      "Epoch 16/200\n",
      "348/348 [==============================] - 0s 656us/sample - loss: 0.0458 - mae: 0.2549 - val_loss: 0.0530 - val_mae: 0.2792\n",
      "Epoch 17/200\n",
      "348/348 [==============================] - 0s 676us/sample - loss: 0.0451 - mae: 0.2527 - val_loss: 0.0520 - val_mae: 0.2764\n",
      "Epoch 18/200\n",
      "348/348 [==============================] - 0s 732us/sample - loss: 0.0445 - mae: 0.2507 - val_loss: 0.0510 - val_mae: 0.2735\n",
      "Epoch 19/200\n",
      "348/348 [==============================] - 0s 805us/sample - loss: 0.0439 - mae: 0.2486 - val_loss: 0.0501 - val_mae: 0.2706\n",
      "Epoch 20/200\n",
      "348/348 [==============================] - 0s 716us/sample - loss: 0.0432 - mae: 0.2466 - val_loss: 0.0493 - val_mae: 0.2683\n",
      "Epoch 21/200\n",
      "348/348 [==============================] - 0s 710us/sample - loss: 0.0426 - mae: 0.2447 - val_loss: 0.0484 - val_mae: 0.2658\n",
      "Epoch 22/200\n",
      "348/348 [==============================] - 0s 695us/sample - loss: 0.0420 - mae: 0.2428 - val_loss: 0.0476 - val_mae: 0.2634\n",
      "Epoch 23/200\n",
      "348/348 [==============================] - 0s 681us/sample - loss: 0.0415 - mae: 0.2408 - val_loss: 0.0468 - val_mae: 0.2610\n",
      "Epoch 24/200\n",
      "348/348 [==============================] - 0s 675us/sample - loss: 0.0409 - mae: 0.2389 - val_loss: 0.0461 - val_mae: 0.2586\n",
      "Epoch 25/200\n",
      "348/348 [==============================] - 0s 649us/sample - loss: 0.0403 - mae: 0.2371 - val_loss: 0.0453 - val_mae: 0.2562\n",
      "Epoch 26/200\n",
      "348/348 [==============================] - 0s 679us/sample - loss: 0.0398 - mae: 0.2352 - val_loss: 0.0446 - val_mae: 0.2539\n",
      "Epoch 27/200\n",
      "348/348 [==============================] - 0s 700us/sample - loss: 0.0393 - mae: 0.2335 - val_loss: 0.0439 - val_mae: 0.2518\n",
      "Epoch 28/200\n",
      "348/348 [==============================] - 0s 718us/sample - loss: 0.0387 - mae: 0.2317 - val_loss: 0.0433 - val_mae: 0.2499\n",
      "Epoch 29/200\n",
      "348/348 [==============================] - 0s 675us/sample - loss: 0.0382 - mae: 0.2299 - val_loss: 0.0426 - val_mae: 0.2479\n",
      "Epoch 30/200\n",
      "348/348 [==============================] - 0s 664us/sample - loss: 0.0377 - mae: 0.2282 - val_loss: 0.0420 - val_mae: 0.2457\n",
      "Epoch 31/200\n",
      "348/348 [==============================] - 0s 652us/sample - loss: 0.0372 - mae: 0.2264 - val_loss: 0.0412 - val_mae: 0.2432\n",
      "Epoch 32/200\n",
      "348/348 [==============================] - 0s 679us/sample - loss: 0.0367 - mae: 0.2247 - val_loss: 0.0406 - val_mae: 0.2413\n",
      "Epoch 33/200\n",
      "348/348 [==============================] - 0s 656us/sample - loss: 0.0363 - mae: 0.2231 - val_loss: 0.0401 - val_mae: 0.2394\n",
      "Epoch 34/200\n",
      "348/348 [==============================] - 0s 690us/sample - loss: 0.0358 - mae: 0.2214 - val_loss: 0.0396 - val_mae: 0.2380\n",
      "Epoch 35/200\n",
      "348/348 [==============================] - 0s 687us/sample - loss: 0.0353 - mae: 0.2199 - val_loss: 0.0389 - val_mae: 0.2357\n",
      "Epoch 36/200\n",
      "348/348 [==============================] - 0s 674us/sample - loss: 0.0349 - mae: 0.2182 - val_loss: 0.0385 - val_mae: 0.2342\n",
      "Epoch 37/200\n",
      "348/348 [==============================] - 0s 657us/sample - loss: 0.0344 - mae: 0.2166 - val_loss: 0.0380 - val_mae: 0.2326\n",
      "Epoch 38/200\n",
      "348/348 [==============================] - 0s 680us/sample - loss: 0.0340 - mae: 0.2151 - val_loss: 0.0375 - val_mae: 0.2309\n",
      "Epoch 39/200\n",
      "348/348 [==============================] - 0s 667us/sample - loss: 0.0335 - mae: 0.2135 - val_loss: 0.0370 - val_mae: 0.2293\n",
      "Epoch 40/200\n",
      "348/348 [==============================] - 0s 701us/sample - loss: 0.0331 - mae: 0.2119 - val_loss: 0.0365 - val_mae: 0.2277\n",
      "Epoch 41/200\n",
      "348/348 [==============================] - 0s 723us/sample - loss: 0.0327 - mae: 0.2104 - val_loss: 0.0361 - val_mae: 0.2261\n",
      "Epoch 42/200\n",
      "348/348 [==============================] - 0s 676us/sample - loss: 0.0323 - mae: 0.2089 - val_loss: 0.0356 - val_mae: 0.2245\n",
      "Epoch 43/200\n",
      "348/348 [==============================] - 0s 676us/sample - loss: 0.0319 - mae: 0.2074 - val_loss: 0.0351 - val_mae: 0.2229\n",
      "Epoch 44/200\n",
      "348/348 [==============================] - 0s 697us/sample - loss: 0.0315 - mae: 0.2059 - val_loss: 0.0347 - val_mae: 0.2214\n",
      "Epoch 45/200\n",
      "348/348 [==============================] - 0s 677us/sample - loss: 0.0311 - mae: 0.2044 - val_loss: 0.0343 - val_mae: 0.2200\n",
      "Epoch 46/200\n",
      "348/348 [==============================] - 0s 715us/sample - loss: 0.0307 - mae: 0.2029 - val_loss: 0.0338 - val_mae: 0.2183\n",
      "Epoch 47/200\n",
      "348/348 [==============================] - 0s 692us/sample - loss: 0.0303 - mae: 0.2014 - val_loss: 0.0334 - val_mae: 0.2169\n",
      "Epoch 48/200\n",
      "348/348 [==============================] - 0s 700us/sample - loss: 0.0299 - mae: 0.1999 - val_loss: 0.0330 - val_mae: 0.2155\n",
      "Epoch 49/200\n",
      "348/348 [==============================] - 0s 746us/sample - loss: 0.0295 - mae: 0.1985 - val_loss: 0.0326 - val_mae: 0.2142\n",
      "Epoch 50/200\n",
      "348/348 [==============================] - 0s 704us/sample - loss: 0.0292 - mae: 0.1970 - val_loss: 0.0323 - val_mae: 0.2130\n",
      "Epoch 51/200\n",
      "348/348 [==============================] - 0s 697us/sample - loss: 0.0288 - mae: 0.1956 - val_loss: 0.0319 - val_mae: 0.2118\n",
      "Epoch 52/200\n",
      "348/348 [==============================] - 0s 686us/sample - loss: 0.0285 - mae: 0.1943 - val_loss: 0.0315 - val_mae: 0.2104\n",
      "Epoch 53/200\n",
      "348/348 [==============================] - 0s 712us/sample - loss: 0.0281 - mae: 0.1929 - val_loss: 0.0312 - val_mae: 0.2093\n",
      "Epoch 54/200\n",
      "348/348 [==============================] - 0s 748us/sample - loss: 0.0278 - mae: 0.1916 - val_loss: 0.0309 - val_mae: 0.2081\n",
      "Epoch 55/200\n",
      "348/348 [==============================] - 0s 682us/sample - loss: 0.0274 - mae: 0.1903 - val_loss: 0.0305 - val_mae: 0.2069\n",
      "Epoch 56/200\n",
      "348/348 [==============================] - 0s 682us/sample - loss: 0.0271 - mae: 0.1889 - val_loss: 0.0302 - val_mae: 0.2059\n",
      "Epoch 57/200\n",
      "348/348 [==============================] - 0s 738us/sample - loss: 0.0268 - mae: 0.1877 - val_loss: 0.0297 - val_mae: 0.2042\n",
      "Epoch 58/200\n",
      "348/348 [==============================] - 0s 704us/sample - loss: 0.0264 - mae: 0.1863 - val_loss: 0.0295 - val_mae: 0.2035\n",
      "Epoch 59/200\n",
      "348/348 [==============================] - 0s 687us/sample - loss: 0.0261 - mae: 0.1850 - val_loss: 0.0291 - val_mae: 0.2022\n",
      "Epoch 60/200\n",
      "348/348 [==============================] - 0s 681us/sample - loss: 0.0258 - mae: 0.1838 - val_loss: 0.0288 - val_mae: 0.2010\n",
      "Epoch 61/200\n",
      "348/348 [==============================] - 0s 665us/sample - loss: 0.0255 - mae: 0.1826 - val_loss: 0.0286 - val_mae: 0.2002\n",
      "Epoch 62/200\n",
      "348/348 [==============================] - 0s 689us/sample - loss: 0.0252 - mae: 0.1814 - val_loss: 0.0282 - val_mae: 0.1990\n",
      "Epoch 63/200\n",
      "348/348 [==============================] - 0s 738us/sample - loss: 0.0249 - mae: 0.1802 - val_loss: 0.0280 - val_mae: 0.1983\n",
      "Epoch 64/200\n",
      "348/348 [==============================] - 0s 727us/sample - loss: 0.0246 - mae: 0.1790 - val_loss: 0.0277 - val_mae: 0.1971\n",
      "Epoch 65/200\n",
      "348/348 [==============================] - 0s 737us/sample - loss: 0.0243 - mae: 0.1779 - val_loss: 0.0273 - val_mae: 0.1960\n",
      "Epoch 66/200\n",
      "348/348 [==============================] - 0s 686us/sample - loss: 0.0240 - mae: 0.1768 - val_loss: 0.0270 - val_mae: 0.1949\n",
      "Epoch 67/200\n",
      "348/348 [==============================] - 0s 680us/sample - loss: 0.0237 - mae: 0.1757 - val_loss: 0.0266 - val_mae: 0.1935\n",
      "Epoch 68/200\n",
      "348/348 [==============================] - 0s 723us/sample - loss: 0.0235 - mae: 0.1746 - val_loss: 0.0264 - val_mae: 0.1925\n",
      "Epoch 69/200\n",
      "348/348 [==============================] - 0s 681us/sample - loss: 0.0232 - mae: 0.1735 - val_loss: 0.0261 - val_mae: 0.1914\n",
      "Epoch 70/200\n",
      "348/348 [==============================] - 0s 673us/sample - loss: 0.0229 - mae: 0.1725 - val_loss: 0.0258 - val_mae: 0.1905\n",
      "Epoch 71/200\n",
      "348/348 [==============================] - 0s 696us/sample - loss: 0.0226 - mae: 0.1714 - val_loss: 0.0256 - val_mae: 0.1897\n",
      "Epoch 72/200\n",
      "348/348 [==============================] - 0s 679us/sample - loss: 0.0224 - mae: 0.1704 - val_loss: 0.0252 - val_mae: 0.1886\n",
      "Epoch 73/200\n",
      "348/348 [==============================] - 0s 680us/sample - loss: 0.0221 - mae: 0.1694 - val_loss: 0.0250 - val_mae: 0.1879\n",
      "Epoch 74/200\n",
      "348/348 [==============================] - 0s 669us/sample - loss: 0.0219 - mae: 0.1685 - val_loss: 0.0247 - val_mae: 0.1868\n",
      "Epoch 75/200\n",
      "348/348 [==============================] - 0s 719us/sample - loss: 0.0216 - mae: 0.1675 - val_loss: 0.0245 - val_mae: 0.1859\n",
      "Epoch 76/200\n",
      "348/348 [==============================] - 0s 684us/sample - loss: 0.0214 - mae: 0.1665 - val_loss: 0.0242 - val_mae: 0.1849\n",
      "Epoch 77/200\n",
      "348/348 [==============================] - 0s 661us/sample - loss: 0.0211 - mae: 0.1656 - val_loss: 0.0240 - val_mae: 0.1839\n",
      "Epoch 78/200\n",
      "348/348 [==============================] - 0s 671us/sample - loss: 0.0209 - mae: 0.1647 - val_loss: 0.0237 - val_mae: 0.1831\n",
      "Epoch 79/200\n",
      "348/348 [==============================] - 0s 683us/sample - loss: 0.0207 - mae: 0.1637 - val_loss: 0.0235 - val_mae: 0.1822\n",
      "Epoch 80/200\n",
      "348/348 [==============================] - 0s 684us/sample - loss: 0.0205 - mae: 0.1628 - val_loss: 0.0232 - val_mae: 0.1813\n",
      "Epoch 81/200\n",
      "348/348 [==============================] - 0s 705us/sample - loss: 0.0202 - mae: 0.1619 - val_loss: 0.0231 - val_mae: 0.1806\n",
      "Epoch 82/200\n",
      "348/348 [==============================] - 0s 695us/sample - loss: 0.0200 - mae: 0.1609 - val_loss: 0.0228 - val_mae: 0.1796\n",
      "Epoch 83/200\n",
      "348/348 [==============================] - 0s 672us/sample - loss: 0.0198 - mae: 0.1600 - val_loss: 0.0226 - val_mae: 0.1788\n",
      "Epoch 84/200\n",
      "348/348 [==============================] - 0s 678us/sample - loss: 0.0196 - mae: 0.1590 - val_loss: 0.0223 - val_mae: 0.1778\n",
      "Epoch 85/200\n",
      "348/348 [==============================] - 0s 665us/sample - loss: 0.0194 - mae: 0.1581 - val_loss: 0.0222 - val_mae: 0.1772\n",
      "Epoch 86/200\n",
      "348/348 [==============================] - 0s 708us/sample - loss: 0.0192 - mae: 0.1572 - val_loss: 0.0219 - val_mae: 0.1760\n",
      "Epoch 87/200\n",
      "348/348 [==============================] - 0s 691us/sample - loss: 0.0190 - mae: 0.1563 - val_loss: 0.0217 - val_mae: 0.1753\n",
      "Epoch 88/200\n",
      "348/348 [==============================] - 0s 682us/sample - loss: 0.0188 - mae: 0.1555 - val_loss: 0.0215 - val_mae: 0.1746\n",
      "Epoch 89/200\n",
      "348/348 [==============================] - 0s 684us/sample - loss: 0.0186 - mae: 0.1546 - val_loss: 0.0213 - val_mae: 0.1736\n",
      "Epoch 90/200\n",
      "348/348 [==============================] - 0s 693us/sample - loss: 0.0184 - mae: 0.1538 - val_loss: 0.0210 - val_mae: 0.1726\n",
      "Epoch 91/200\n",
      "348/348 [==============================] - 0s 689us/sample - loss: 0.0182 - mae: 0.1529 - val_loss: 0.0208 - val_mae: 0.1717\n",
      "Epoch 92/200\n",
      "348/348 [==============================] - 0s 686us/sample - loss: 0.0180 - mae: 0.1521 - val_loss: 0.0206 - val_mae: 0.1708\n",
      "Epoch 93/200\n",
      "348/348 [==============================] - 0s 664us/sample - loss: 0.0178 - mae: 0.1513 - val_loss: 0.0203 - val_mae: 0.1698\n",
      "Epoch 94/200\n",
      "348/348 [==============================] - 0s 696us/sample - loss: 0.0176 - mae: 0.1505 - val_loss: 0.0202 - val_mae: 0.1692\n",
      "Epoch 95/200\n",
      "348/348 [==============================] - 0s 695us/sample - loss: 0.0175 - mae: 0.1497 - val_loss: 0.0200 - val_mae: 0.1686\n",
      "Epoch 96/200\n",
      "348/348 [==============================] - 0s 674us/sample - loss: 0.0173 - mae: 0.1488 - val_loss: 0.0198 - val_mae: 0.1677\n",
      "Epoch 97/200\n",
      "348/348 [==============================] - 0s 681us/sample - loss: 0.0171 - mae: 0.1481 - val_loss: 0.0196 - val_mae: 0.1668\n",
      "Epoch 98/200\n",
      "348/348 [==============================] - 0s 710us/sample - loss: 0.0169 - mae: 0.1474 - val_loss: 0.0194 - val_mae: 0.1657\n",
      "Epoch 99/200\n",
      "348/348 [==============================] - 0s 674us/sample - loss: 0.0168 - mae: 0.1466 - val_loss: 0.0192 - val_mae: 0.1650\n",
      "Epoch 100/200\n",
      "348/348 [==============================] - 0s 717us/sample - loss: 0.0166 - mae: 0.1459 - val_loss: 0.0190 - val_mae: 0.1643\n",
      "Epoch 101/200\n",
      "348/348 [==============================] - 0s 689us/sample - loss: 0.0165 - mae: 0.1452 - val_loss: 0.0189 - val_mae: 0.1637\n",
      "Epoch 102/200\n",
      "348/348 [==============================] - 0s 695us/sample - loss: 0.0163 - mae: 0.1444 - val_loss: 0.0186 - val_mae: 0.1626\n",
      "Epoch 103/200\n",
      "348/348 [==============================] - 0s 686us/sample - loss: 0.0162 - mae: 0.1437 - val_loss: 0.0185 - val_mae: 0.1620\n",
      "Epoch 104/200\n",
      "348/348 [==============================] - 0s 700us/sample - loss: 0.0160 - mae: 0.1430 - val_loss: 0.0183 - val_mae: 0.1613\n",
      "Epoch 105/200\n",
      "348/348 [==============================] - 0s 764us/sample - loss: 0.0159 - mae: 0.1423 - val_loss: 0.0182 - val_mae: 0.1605\n",
      "Epoch 106/200\n",
      "348/348 [==============================] - 0s 676us/sample - loss: 0.0157 - mae: 0.1416 - val_loss: 0.0180 - val_mae: 0.1599\n",
      "Epoch 107/200\n",
      "348/348 [==============================] - 0s 687us/sample - loss: 0.0156 - mae: 0.1409 - val_loss: 0.0179 - val_mae: 0.1594\n",
      "Epoch 108/200\n",
      "348/348 [==============================] - 0s 682us/sample - loss: 0.0154 - mae: 0.1403 - val_loss: 0.0178 - val_mae: 0.1586\n",
      "Epoch 109/200\n",
      "348/348 [==============================] - 0s 696us/sample - loss: 0.0153 - mae: 0.1396 - val_loss: 0.0176 - val_mae: 0.1579\n",
      "Epoch 110/200\n",
      "348/348 [==============================] - 0s 690us/sample - loss: 0.0152 - mae: 0.1389 - val_loss: 0.0174 - val_mae: 0.1571\n",
      "Epoch 111/200\n",
      "348/348 [==============================] - 0s 707us/sample - loss: 0.0150 - mae: 0.1383 - val_loss: 0.0173 - val_mae: 0.1563\n",
      "Epoch 112/200\n",
      "348/348 [==============================] - 0s 694us/sample - loss: 0.0149 - mae: 0.1377 - val_loss: 0.0171 - val_mae: 0.1554\n",
      "Epoch 113/200\n",
      "348/348 [==============================] - 0s 705us/sample - loss: 0.0148 - mae: 0.1370 - val_loss: 0.0170 - val_mae: 0.1550\n",
      "Epoch 114/200\n",
      "348/348 [==============================] - 0s 661us/sample - loss: 0.0146 - mae: 0.1363 - val_loss: 0.0168 - val_mae: 0.1541\n",
      "Epoch 115/200\n",
      "348/348 [==============================] - 0s 674us/sample - loss: 0.0145 - mae: 0.1358 - val_loss: 0.0166 - val_mae: 0.1533\n",
      "Epoch 116/200\n",
      "348/348 [==============================] - 0s 705us/sample - loss: 0.0144 - mae: 0.1352 - val_loss: 0.0165 - val_mae: 0.1525\n",
      "Epoch 117/200\n",
      "348/348 [==============================] - 0s 685us/sample - loss: 0.0143 - mae: 0.1346 - val_loss: 0.0163 - val_mae: 0.1516\n",
      "Epoch 118/200\n",
      "348/348 [==============================] - 0s 709us/sample - loss: 0.0142 - mae: 0.1340 - val_loss: 0.0161 - val_mae: 0.1507\n",
      "Epoch 119/200\n",
      "348/348 [==============================] - 0s 675us/sample - loss: 0.0140 - mae: 0.1334 - val_loss: 0.0160 - val_mae: 0.1501\n",
      "Epoch 120/200\n",
      "348/348 [==============================] - 0s 713us/sample - loss: 0.0139 - mae: 0.1329 - val_loss: 0.0158 - val_mae: 0.1495\n",
      "Epoch 121/200\n",
      "348/348 [==============================] - 0s 719us/sample - loss: 0.0138 - mae: 0.1324 - val_loss: 0.0157 - val_mae: 0.1488\n",
      "Epoch 122/200\n",
      "348/348 [==============================] - 0s 673us/sample - loss: 0.0137 - mae: 0.1318 - val_loss: 0.0155 - val_mae: 0.1482\n",
      "Epoch 123/200\n",
      "348/348 [==============================] - 0s 671us/sample - loss: 0.0136 - mae: 0.1313 - val_loss: 0.0154 - val_mae: 0.1475\n",
      "Epoch 124/200\n",
      "348/348 [==============================] - 0s 695us/sample - loss: 0.0135 - mae: 0.1308 - val_loss: 0.0153 - val_mae: 0.1470\n",
      "Epoch 125/200\n",
      "348/348 [==============================] - 0s 699us/sample - loss: 0.0134 - mae: 0.1303 - val_loss: 0.0151 - val_mae: 0.1463\n",
      "Epoch 126/200\n",
      "348/348 [==============================] - 0s 719us/sample - loss: 0.0133 - mae: 0.1298 - val_loss: 0.0150 - val_mae: 0.1456\n",
      "Epoch 127/200\n",
      "348/348 [==============================] - 0s 685us/sample - loss: 0.0132 - mae: 0.1293 - val_loss: 0.0148 - val_mae: 0.1449\n",
      "Epoch 128/200\n",
      "348/348 [==============================] - 0s 722us/sample - loss: 0.0131 - mae: 0.1288 - val_loss: 0.0148 - val_mae: 0.1446\n",
      "Epoch 129/200\n",
      "348/348 [==============================] - 0s 719us/sample - loss: 0.0130 - mae: 0.1283 - val_loss: 0.0146 - val_mae: 0.1439\n",
      "Epoch 130/200\n",
      "348/348 [==============================] - 0s 677us/sample - loss: 0.0129 - mae: 0.1278 - val_loss: 0.0145 - val_mae: 0.1436\n",
      "Epoch 131/200\n",
      "348/348 [==============================] - 0s 664us/sample - loss: 0.0128 - mae: 0.1273 - val_loss: 0.0144 - val_mae: 0.1429\n",
      "Epoch 132/200\n",
      "348/348 [==============================] - 0s 725us/sample - loss: 0.0127 - mae: 0.1268 - val_loss: 0.0143 - val_mae: 0.1424\n",
      "Epoch 133/200\n",
      "348/348 [==============================] - 0s 688us/sample - loss: 0.0126 - mae: 0.1264 - val_loss: 0.0141 - val_mae: 0.1417\n",
      "Epoch 134/200\n",
      "348/348 [==============================] - 0s 699us/sample - loss: 0.0125 - mae: 0.1259 - val_loss: 0.0140 - val_mae: 0.1412\n",
      "Epoch 135/200\n",
      "348/348 [==============================] - 0s 669us/sample - loss: 0.0124 - mae: 0.1254 - val_loss: 0.0139 - val_mae: 0.1409\n",
      "Epoch 136/200\n",
      "348/348 [==============================] - 0s 707us/sample - loss: 0.0123 - mae: 0.1249 - val_loss: 0.0138 - val_mae: 0.1401\n",
      "Epoch 137/200\n",
      "348/348 [==============================] - 0s 682us/sample - loss: 0.0122 - mae: 0.1245 - val_loss: 0.0136 - val_mae: 0.1394\n",
      "Epoch 138/200\n",
      "348/348 [==============================] - 0s 679us/sample - loss: 0.0121 - mae: 0.1241 - val_loss: 0.0136 - val_mae: 0.1390\n",
      "Epoch 139/200\n",
      "348/348 [==============================] - 0s 709us/sample - loss: 0.0121 - mae: 0.1236 - val_loss: 0.0135 - val_mae: 0.1386\n",
      "Epoch 140/200\n",
      "348/348 [==============================] - 0s 676us/sample - loss: 0.0120 - mae: 0.1232 - val_loss: 0.0134 - val_mae: 0.1382\n",
      "Epoch 141/200\n",
      "348/348 [==============================] - 0s 688us/sample - loss: 0.0119 - mae: 0.1227 - val_loss: 0.0133 - val_mae: 0.1378\n",
      "Epoch 142/200\n",
      "348/348 [==============================] - 0s 675us/sample - loss: 0.0118 - mae: 0.1223 - val_loss: 0.0132 - val_mae: 0.1373\n",
      "Epoch 143/200\n",
      "348/348 [==============================] - 0s 673us/sample - loss: 0.0117 - mae: 0.1219 - val_loss: 0.0131 - val_mae: 0.1367\n",
      "Epoch 144/200\n",
      "348/348 [==============================] - 0s 695us/sample - loss: 0.0117 - mae: 0.1215 - val_loss: 0.0130 - val_mae: 0.1361\n",
      "Epoch 145/200\n",
      "348/348 [==============================] - 0s 655us/sample - loss: 0.0116 - mae: 0.1211 - val_loss: 0.0129 - val_mae: 0.1357\n",
      "Epoch 146/200\n",
      "348/348 [==============================] - 0s 671us/sample - loss: 0.0115 - mae: 0.1207 - val_loss: 0.0128 - val_mae: 0.1351\n",
      "Epoch 147/200\n",
      "348/348 [==============================] - 0s 687us/sample - loss: 0.0114 - mae: 0.1203 - val_loss: 0.0126 - val_mae: 0.1344\n",
      "Epoch 148/200\n",
      "348/348 [==============================] - 0s 673us/sample - loss: 0.0114 - mae: 0.1199 - val_loss: 0.0125 - val_mae: 0.1338\n",
      "Epoch 149/200\n",
      "348/348 [==============================] - 0s 710us/sample - loss: 0.0113 - mae: 0.1195 - val_loss: 0.0124 - val_mae: 0.1333\n",
      "Epoch 150/200\n",
      "348/348 [==============================] - 0s 700us/sample - loss: 0.0112 - mae: 0.1191 - val_loss: 0.0124 - val_mae: 0.1330\n",
      "Epoch 151/200\n",
      "348/348 [==============================] - 0s 692us/sample - loss: 0.0111 - mae: 0.1187 - val_loss: 0.0122 - val_mae: 0.1324\n",
      "Epoch 152/200\n",
      "348/348 [==============================] - 0s 685us/sample - loss: 0.0111 - mae: 0.1184 - val_loss: 0.0121 - val_mae: 0.1318\n",
      "Epoch 153/200\n",
      "348/348 [==============================] - 0s 717us/sample - loss: 0.0110 - mae: 0.1180 - val_loss: 0.0120 - val_mae: 0.1313\n",
      "Epoch 154/200\n",
      "348/348 [==============================] - 0s 691us/sample - loss: 0.0109 - mae: 0.1176 - val_loss: 0.0119 - val_mae: 0.1310\n",
      "Epoch 155/200\n",
      "348/348 [==============================] - 0s 714us/sample - loss: 0.0108 - mae: 0.1172 - val_loss: 0.0119 - val_mae: 0.1306\n",
      "Epoch 156/200\n",
      "348/348 [==============================] - 0s 735us/sample - loss: 0.0108 - mae: 0.1169 - val_loss: 0.0118 - val_mae: 0.1301\n",
      "Epoch 157/200\n",
      "348/348 [==============================] - 0s 753us/sample - loss: 0.0107 - mae: 0.1165 - val_loss: 0.0117 - val_mae: 0.1298\n",
      "Epoch 158/200\n",
      "348/348 [==============================] - 0s 693us/sample - loss: 0.0106 - mae: 0.1161 - val_loss: 0.0116 - val_mae: 0.1294\n",
      "Epoch 159/200\n",
      "348/348 [==============================] - 0s 666us/sample - loss: 0.0106 - mae: 0.1158 - val_loss: 0.0115 - val_mae: 0.1289\n",
      "Epoch 160/200\n",
      "348/348 [==============================] - 0s 687us/sample - loss: 0.0105 - mae: 0.1154 - val_loss: 0.0115 - val_mae: 0.1285\n",
      "Epoch 161/200\n",
      "348/348 [==============================] - 0s 707us/sample - loss: 0.0105 - mae: 0.1151 - val_loss: 0.0113 - val_mae: 0.1279\n",
      "Epoch 162/200\n",
      "348/348 [==============================] - 0s 682us/sample - loss: 0.0104 - mae: 0.1148 - val_loss: 0.0112 - val_mae: 0.1271\n",
      "Epoch 163/200\n",
      "348/348 [==============================] - 0s 697us/sample - loss: 0.0103 - mae: 0.1144 - val_loss: 0.0111 - val_mae: 0.1268\n",
      "Epoch 164/200\n",
      "348/348 [==============================] - 0s 681us/sample - loss: 0.0103 - mae: 0.1141 - val_loss: 0.0111 - val_mae: 0.1265\n",
      "Epoch 165/200\n",
      "348/348 [==============================] - 0s 689us/sample - loss: 0.0102 - mae: 0.1137 - val_loss: 0.0110 - val_mae: 0.1261\n",
      "Epoch 166/200\n",
      "348/348 [==============================] - 0s 713us/sample - loss: 0.0101 - mae: 0.1133 - val_loss: 0.0109 - val_mae: 0.1256\n",
      "Epoch 167/200\n",
      "348/348 [==============================] - 0s 689us/sample - loss: 0.0101 - mae: 0.1130 - val_loss: 0.0109 - val_mae: 0.1254\n",
      "Epoch 168/200\n",
      "348/348 [==============================] - 0s 679us/sample - loss: 0.0100 - mae: 0.1127 - val_loss: 0.0108 - val_mae: 0.1248\n",
      "Epoch 169/200\n",
      "348/348 [==============================] - 0s 694us/sample - loss: 0.0100 - mae: 0.1123 - val_loss: 0.0107 - val_mae: 0.1245\n",
      "Epoch 170/200\n",
      "348/348 [==============================] - 0s 689us/sample - loss: 0.0099 - mae: 0.1120 - val_loss: 0.0106 - val_mae: 0.1241\n",
      "Epoch 171/200\n",
      "348/348 [==============================] - 0s 687us/sample - loss: 0.0098 - mae: 0.1117 - val_loss: 0.0106 - val_mae: 0.1238\n",
      "Epoch 172/200\n",
      "348/348 [==============================] - 0s 681us/sample - loss: 0.0098 - mae: 0.1114 - val_loss: 0.0105 - val_mae: 0.1234\n",
      "Epoch 173/200\n",
      "348/348 [==============================] - 0s 685us/sample - loss: 0.0097 - mae: 0.1111 - val_loss: 0.0104 - val_mae: 0.1229\n",
      "Epoch 174/200\n",
      "348/348 [==============================] - 0s 683us/sample - loss: 0.0097 - mae: 0.1108 - val_loss: 0.0104 - val_mae: 0.1226\n",
      "Epoch 175/200\n",
      "348/348 [==============================] - 0s 691us/sample - loss: 0.0096 - mae: 0.1105 - val_loss: 0.0103 - val_mae: 0.1221\n",
      "Epoch 176/200\n",
      "348/348 [==============================] - 0s 695us/sample - loss: 0.0096 - mae: 0.1101 - val_loss: 0.0102 - val_mae: 0.1217\n",
      "Epoch 177/200\n",
      "348/348 [==============================] - 0s 679us/sample - loss: 0.0095 - mae: 0.1098 - val_loss: 0.0102 - val_mae: 0.1213\n",
      "Epoch 178/200\n",
      "348/348 [==============================] - 0s 690us/sample - loss: 0.0094 - mae: 0.1095 - val_loss: 0.0101 - val_mae: 0.1209\n",
      "Epoch 179/200\n",
      "348/348 [==============================] - 0s 676us/sample - loss: 0.0094 - mae: 0.1092 - val_loss: 0.0100 - val_mae: 0.1204\n",
      "Epoch 180/200\n",
      "348/348 [==============================] - 0s 692us/sample - loss: 0.0093 - mae: 0.1089 - val_loss: 0.0100 - val_mae: 0.1201\n",
      "Epoch 181/200\n",
      "348/348 [==============================] - 0s 703us/sample - loss: 0.0093 - mae: 0.1086 - val_loss: 0.0099 - val_mae: 0.1198\n",
      "Epoch 182/200\n",
      "348/348 [==============================] - 0s 673us/sample - loss: 0.0092 - mae: 0.1083 - val_loss: 0.0099 - val_mae: 0.1196\n",
      "Epoch 183/200\n",
      "348/348 [==============================] - 0s 674us/sample - loss: 0.0092 - mae: 0.1080 - val_loss: 0.0098 - val_mae: 0.1190\n",
      "Epoch 184/200\n",
      "348/348 [==============================] - 0s 719us/sample - loss: 0.0091 - mae: 0.1076 - val_loss: 0.0097 - val_mae: 0.1184\n",
      "Epoch 185/200\n",
      "348/348 [==============================] - 0s 684us/sample - loss: 0.0091 - mae: 0.1073 - val_loss: 0.0096 - val_mae: 0.1179\n",
      "Epoch 186/200\n",
      "348/348 [==============================] - 0s 690us/sample - loss: 0.0090 - mae: 0.1071 - val_loss: 0.0095 - val_mae: 0.1176\n",
      "Epoch 187/200\n",
      "348/348 [==============================] - 0s 695us/sample - loss: 0.0090 - mae: 0.1067 - val_loss: 0.0094 - val_mae: 0.1170\n",
      "Epoch 188/200\n",
      "348/348 [==============================] - 0s 682us/sample - loss: 0.0089 - mae: 0.1064 - val_loss: 0.0094 - val_mae: 0.1165\n",
      "Epoch 189/200\n",
      "348/348 [==============================] - 0s 676us/sample - loss: 0.0089 - mae: 0.1061 - val_loss: 0.0093 - val_mae: 0.1163\n",
      "Epoch 190/200\n",
      "348/348 [==============================] - 0s 686us/sample - loss: 0.0088 - mae: 0.1058 - val_loss: 0.0093 - val_mae: 0.1158\n",
      "Epoch 191/200\n",
      "348/348 [==============================] - 0s 699us/sample - loss: 0.0088 - mae: 0.1055 - val_loss: 0.0092 - val_mae: 0.1155\n",
      "Epoch 192/200\n",
      "348/348 [==============================] - 0s 715us/sample - loss: 0.0087 - mae: 0.1052 - val_loss: 0.0091 - val_mae: 0.1150\n",
      "Epoch 193/200\n",
      "348/348 [==============================] - 0s 682us/sample - loss: 0.0087 - mae: 0.1049 - val_loss: 0.0091 - val_mae: 0.1149\n",
      "Epoch 194/200\n",
      "348/348 [==============================] - 0s 671us/sample - loss: 0.0086 - mae: 0.1046 - val_loss: 0.0091 - val_mae: 0.1147\n",
      "Epoch 195/200\n",
      "348/348 [==============================] - 0s 695us/sample - loss: 0.0086 - mae: 0.1043 - val_loss: 0.0090 - val_mae: 0.1142\n",
      "Epoch 196/200\n",
      "348/348 [==============================] - 0s 684us/sample - loss: 0.0085 - mae: 0.1040 - val_loss: 0.0089 - val_mae: 0.1138\n",
      "Epoch 197/200\n",
      "348/348 [==============================] - 0s 690us/sample - loss: 0.0085 - mae: 0.1037 - val_loss: 0.0089 - val_mae: 0.1133\n",
      "Epoch 198/200\n",
      "348/348 [==============================] - 0s 690us/sample - loss: 0.0084 - mae: 0.1034 - val_loss: 0.0088 - val_mae: 0.1131\n",
      "Epoch 199/200\n",
      "348/348 [==============================] - 0s 661us/sample - loss: 0.0084 - mae: 0.1031 - val_loss: 0.0088 - val_mae: 0.1128\n",
      "Epoch 200/200\n",
      "348/348 [==============================] - 0s 680us/sample - loss: 0.0083 - mae: 0.1028 - val_loss: 0.0087 - val_mae: 0.1123\n"
     ]
    }
   ],
   "source": [
    "model = tuner.get_best_models(num_models=1)\n",
    "\n",
    "history = model[0].fit(\n",
    "            x=X_train,\n",
    "            y=y_train, \n",
    "            epochs=200,\n",
    "            batch_size=bs, \n",
    "            validation_split=0.2,\n",
    "            verbose=1)"
   ]
  },
  {
   "cell_type": "code",
   "execution_count": 34,
   "metadata": {},
   "outputs": [
    {
     "name": "stdout",
     "output_type": "stream",
     "text": [
      "Model: \"sequential_1\"\n",
      "_________________________________________________________________\n",
      "Layer (type)                 Output Shape              Param #   \n",
      "=================================================================\n",
      "simple_rnn_2 (SimpleRNN)     (None, 20, 60)            3720      \n",
      "_________________________________________________________________\n",
      "simple_rnn_3 (SimpleRNN)     (None, 40)                4040      \n",
      "_________________________________________________________________\n",
      "dense_1 (Dense)              (None, 1)                 41        \n",
      "=================================================================\n",
      "Total params: 7,801\n",
      "Trainable params: 7,801\n",
      "Non-trainable params: 0\n",
      "_________________________________________________________________\n"
     ]
    }
   ],
   "source": [
    "model[0].summary()"
   ]
  },
  {
   "cell_type": "code",
   "execution_count": 29,
   "metadata": {},
   "outputs": [
    {
     "data": {
      "text/plain": [
       "<Figure size 432x288 with 0 Axes>"
      ]
     },
     "execution_count": 29,
     "metadata": {},
     "output_type": "execute_result"
    },
    {
     "data": {
      "image/png": "[encoded data removed]",
      "text/plain": [
       "<Figure size 432x288 with 1 Axes>"
      ]
     },
     "metadata": {
      "needs_background": "light"
     },
     "output_type": "display_data"
    },
    {
     "data": {
      "text/plain": [
       "<Figure size 432x288 with 0 Axes>"
      ]
     },
     "metadata": {},
     "output_type": "display_data"
    }
   ],
   "source": [
    "mae=history.history['mae']\n",
    "loss=history.history['loss']\n",
    "\n",
    "epochs=range(len(loss)) # Get number of epochs\n",
    "\n",
    "#------------------------------------------------\n",
    "# Plot MAE and Loss\n",
    "#------------------------------------------------\n",
    "plt.plot(epochs, mae, 'r')\n",
    "plt.plot(epochs, loss, 'b')\n",
    "plt.title('MAE and Loss')\n",
    "plt.xlabel(\"Epochs\")\n",
    "plt.ylabel(\"Accuracy\")\n",
    "plt.legend([\"MAE\", \"Loss\"])\n",
    "\n",
    "plt.figure()"
   ]
  },
  {
   "cell_type": "code",
   "execution_count": 30,
   "metadata": {},
   "outputs": [
    {
     "data": {
      "text/plain": [
       "0.102826074"
      ]
     },
     "execution_count": 30,
     "metadata": {},
     "output_type": "execute_result"
    }
   ],
   "source": [
    "mae[-1]"
   ]
  },
  {
   "cell_type": "code",
   "execution_count": 31,
   "metadata": {},
   "outputs": [
    {
     "data": {
      "text/plain": [
       "<matplotlib.legend.Legend at 0x7f869cbd9ef0>"
      ]
     },
     "execution_count": 31,
     "metadata": {},
     "output_type": "execute_result"
    },
    {
     "data": {
      "image/png": "[encoded data removed]",
      "text/plain": [
       "<Figure size 720x432 with 1 Axes>"
      ]
     },
     "metadata": {
      "needs_background": "light"
     },
     "output_type": "display_data"
    }
   ],
   "source": [
    "forecast=[]\n",
    "for time in range(len(ser_scl) - look_back):\n",
    "  forecast.append(model[0].predict(ser_scl[time:time + look_back][np.newaxis]))\n",
    "\n",
    "forecast = forecast[split_time - look_back:]\n",
    "results = np.array(forecast)[:, 0, 0]\n",
    "\n",
    "\n",
    "plt.figure(figsize=(10, 6))\n",
    "\n",
    "\n",
    "plot_series(time_valid, ser_scl[split_time:], label='Actual')\n",
    "plot_series(time_valid, results, label='Prediction')\n",
    "plt.legend()"
   ]
  },
  {
   "cell_type": "code",
   "execution_count": null,
   "metadata": {},
   "outputs": [],
   "source": []
  }
 ],
 "metadata": {
  "kernelspec": {
   "display_name": "Python 3",
   "language": "python",
   "name": "python3"
  },
  "language_info": {
   "codemirror_mode": {
    "name": "ipython",
    "version": 3
   },
   "file_extension": ".py",
   "mimetype": "text/x-python",
   "name": "python",
   "nbconvert_exporter": "python",
   "pygments_lexer": "ipython3",
   "version": "3.6.9"
  }
 },
 "nbformat": 4,
 "nbformat_minor": 2
}
