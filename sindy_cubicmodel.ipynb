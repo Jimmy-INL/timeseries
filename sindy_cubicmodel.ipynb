{
 "cells": [
  {
   "cell_type": "code",
   "execution_count": 1,
   "metadata": {},
   "outputs": [],
   "source": [
    "import numpy as np\n",
    "import matplotlib.pyplot as plt\n",
    "\n",
    "from scipy.integrate import odeint"
   ]
  },
  {
   "cell_type": "markdown",
   "metadata": {},
   "source": [
    "## Synthetic function\n",
    "\n",
    "Had trouble finding a good function. **REMEMBER**: change `dx1dt`, `dx2dt` also if you change the ranfun below.\n",
    "\n",
    "### Step 1: Compute the time derivative. In this case, we specify it ourselves"
   ]
  },
  {
   "cell_type": "code",
   "execution_count": 2,
   "metadata": {},
   "outputs": [],
   "source": [
    "def ranfun(y, t):\n",
    "    x1, x2 = y\n",
    "    dxdt = [-x1**3 - x2, x1 - x2**3]\n",
    "    return dxdt\n",
    "\n",
    "t = np.linspace(0, 10, 1001)\n",
    "\n",
    "# The following two functions work great, with alpha = 0.0001, they are being correctly classified.\n",
    "#y0 = [0.1, 0.05] # LINEAR: small x1, x2 => Linear coupled oscillator\n",
    "y0 = [0.5, 0.5] # NON-LINEAR: Getting close to triggering non-linear effects"
   ]
  },
  {
   "cell_type": "code",
   "execution_count": 3,
   "metadata": {},
   "outputs": [],
   "source": [
    "sol_new = odeint(ranfun, y0, t)"
   ]
  },
  {
   "cell_type": "markdown",
   "metadata": {},
   "source": [
    "#### Plot the solutions"
   ]
  },
  {
   "cell_type": "code",
   "execution_count": 4,
   "metadata": {},
   "outputs": [
    {
     "data": {
      "image/png": "[encoded data removed]",
      "text/plain": [
       "<Figure size 432x288 with 1 Axes>"
      ]
     },
     "metadata": {
      "needs_background": "light"
     },
     "output_type": "display_data"
    }
   ],
   "source": [
    "plt.plot(t, sol_new[:, 0], 'b', label='x1(t)')\n",
    "plt.plot(t, sol_new[:, 1], 'g', label='x2(t)')\n",
    "plt.legend(loc='best')\n",
    "plt.xlabel('t')\n",
    "plt.grid()"
   ]
  },
  {
   "cell_type": "markdown",
   "metadata": {},
   "source": [
    "### Prepare the feature array out of the solution array above"
   ]
  },
  {
   "cell_type": "code",
   "execution_count": 5,
   "metadata": {},
   "outputs": [],
   "source": [
    "x1 = sol_new[:,0]\n",
    "x2 = sol_new[:,1]\n",
    "\n",
    "dx1dt = -sol_new[:,0]**3 - sol_new[:,1]\n",
    "dx2dt =  sol_new[:,0]    - sol_new[:,1]**3"
   ]
  },
  {
   "cell_type": "code",
   "execution_count": 6,
   "metadata": {},
   "outputs": [],
   "source": [
    "X = np.zeros((sol_new.shape[0], sol_new.shape[1]))\n",
    "\n",
    "X[:, 0] = x1 # dx1/dt\n",
    "X[:, 1] = x2 # dx2/dt"
   ]
  },
  {
   "cell_type": "markdown",
   "metadata": {},
   "source": [
    "### Step 2: Construct a polynomial (or trig) basis to do the regression"
   ]
  },
  {
   "cell_type": "code",
   "execution_count": 7,
   "metadata": {},
   "outputs": [
    {
     "name": "stdout",
     "output_type": "stream",
     "text": [
      "Feature names: ['1', 'x1', 'x2', 'x1^2', 'x1 x2', 'x2^2', 'x1^3', 'x1^2 x2', 'x1 x2^2', 'x2^3']\n",
      "Feature array shape: (1001, 10)\n"
     ]
    }
   ],
   "source": [
    "from sklearn.preprocessing import PolynomialFeatures\n",
    "\n",
    "dum_data = pd.DataFrame(x1, columns=['x1'])\n",
    "dum_data['x2'] = x2\n",
    "\n",
    "deg = 3\n",
    "\n",
    "p = PolynomialFeatures(degree=deg,include_bias=True).fit(dum_data)\n",
    "xpoly = p.fit_transform(dum_data)\n",
    "newdf = pd.DataFrame(xpoly, columns = p.get_feature_names(dum_data.columns))\n",
    "\n",
    "print(\"Feature names:\",list(newdf))#newdf.columns.values.tolist())\n",
    "print(\"Feature array shape:\",newdf.shape)"
   ]
  },
  {
   "cell_type": "markdown",
   "metadata": {},
   "source": [
    "### Step 3: LASSO \n",
    "\n",
    "(or Ridge/OLS with sequential thresholding: that is first do the fit with Ridge/OLS. Then discard any features below a certain value. Do the fit again...)\n",
    "\n",
    "low alpha -> OLS\n",
    "\n",
    "high alpha -> most features zero\n",
    "\n",
    "**alpha** is a hyperparameter"
   ]
  },
  {
   "cell_type": "code",
   "execution_count": 9,
   "metadata": {},
   "outputs": [
    {
     "data": {
      "text/plain": [
       "Lasso(alpha=0.0001, copy_X=True, fit_intercept=True, max_iter=1000,\n",
       "      normalize=False, positive=False, precompute=False, random_state=None,\n",
       "      selection='cyclic', tol=0.0001, warm_start=False)"
      ]
     },
     "execution_count": 9,
     "metadata": {},
     "output_type": "execute_result"
    }
   ],
   "source": [
    "from sklearn import linear_model\n",
    "\n",
    "mod = linear_model.Lasso(alpha=0.0001)\n",
    "mod"
   ]
  },
  {
   "cell_type": "markdown",
   "metadata": {},
   "source": [
    "### Prepare training data"
   ]
  },
  {
   "cell_type": "code",
   "execution_count": 10,
   "metadata": {},
   "outputs": [],
   "source": [
    "newdf_train = newdf[:800]\n",
    "dx1dt_train = dx1dt[:800]\n",
    "dx2dt_train = dx2dt[:800]"
   ]
  },
  {
   "cell_type": "code",
   "execution_count": 11,
   "metadata": {},
   "outputs": [
    {
     "name": "stdout",
     "output_type": "stream",
     "text": [
      "[-0.10661092 -0.99988407]\n",
      "0.0004712401651750242\n"
     ]
    }
   ],
   "source": [
    "#mod.fit(newdf_train, dxdt_train)\n",
    "mod.fit(dum_data, dx1dt)\n",
    "print(mod.coef_)\n",
    "print(mod.intercept_)"
   ]
  },
  {
   "cell_type": "code",
   "execution_count": 12,
   "metadata": {},
   "outputs": [
    {
     "name": "stdout",
     "output_type": "stream",
     "text": [
      "[ 0.         -0.05576026 -0.99852418  0.         -0.         -0.01819165\n",
      " -0.50202469 -0.          0.         -0.        ]\n",
      "0.0033302444886464805\n"
     ]
    }
   ],
   "source": [
    "mod.fit(newdf_train, dx1dt_train)\n",
    "print(mod.coef_) # should give the 3rd (x2) + 4th (x1^2) argument non-zero\n",
    "print(mod.intercept_)"
   ]
  },
  {
   "cell_type": "code",
   "execution_count": 13,
   "metadata": {},
   "outputs": [
    {
     "data": {
      "text/html": [
       "<div>\n",
       "<style scoped>\n",
       "    .dataframe tbody tr th:only-of-type {\n",
       "        vertical-align: middle;\n",
       "    }\n",
       "\n",
       "    .dataframe tbody tr th {\n",
       "        vertical-align: top;\n",
       "    }\n",
       "\n",
       "    .dataframe thead th {\n",
       "        text-align: right;\n",
       "    }\n",
       "</style>\n",
       "<table border=\"1\" class=\"dataframe\">\n",
       "  <thead>\n",
       "    <tr style=\"text-align: right;\">\n",
       "      <th></th>\n",
       "      <th>1</th>\n",
       "      <th>x1</th>\n",
       "      <th>x2</th>\n",
       "      <th>x1^2</th>\n",
       "      <th>x1 x2</th>\n",
       "      <th>x2^2</th>\n",
       "      <th>x1^3</th>\n",
       "      <th>x1^2 x2</th>\n",
       "      <th>x1 x2^2</th>\n",
       "      <th>x2^3</th>\n",
       "    </tr>\n",
       "  </thead>\n",
       "  <tbody>\n",
       "    <tr>\n",
       "      <th>0</th>\n",
       "      <td>0.0</td>\n",
       "      <td>-0.05576</td>\n",
       "      <td>-0.998524</td>\n",
       "      <td>0.0</td>\n",
       "      <td>-0.0</td>\n",
       "      <td>-0.018192</td>\n",
       "      <td>-0.502025</td>\n",
       "      <td>-0.0</td>\n",
       "      <td>0.0</td>\n",
       "      <td>-0.0</td>\n",
       "    </tr>\n",
       "  </tbody>\n",
       "</table>\n",
       "</div>"
      ],
      "text/plain": [
       "     1       x1        x2  x1^2  x1 x2      x2^2      x1^3  x1^2 x2  x1 x2^2  \\\n",
       "0  0.0 -0.05576 -0.998524   0.0   -0.0 -0.018192 -0.502025     -0.0      0.0   \n",
       "\n",
       "   x2^3  \n",
       "0  -0.0  "
      ]
     },
     "execution_count": 13,
     "metadata": {},
     "output_type": "execute_result"
    }
   ],
   "source": [
    "fit_dx1 = pd.DataFrame(columns=newdf.columns)\n",
    "fit_dx1.loc[0] = mod.coef_\n",
    "fit_dx1.head()"
   ]
  },
  {
   "cell_type": "code",
   "execution_count": 14,
   "metadata": {},
   "outputs": [
    {
     "data": {
      "text/plain": [
       "[<matplotlib.lines.Line2D at 0x7f0a8c17a210>]"
      ]
     },
     "execution_count": 14,
     "metadata": {},
     "output_type": "execute_result"
    },
    {
     "data": {
      "image/png": "[encoded data removed]",
      "text/plain": [
       "<Figure size 576x396 with 1 Axes>"
      ]
     },
     "metadata": {},
     "output_type": "display_data"
    }
   ],
   "source": [
    "# PLOT results\n",
    "ypred = mod.predict(newdf[800:])\n",
    "plt.plot(ypred)\n",
    "plt.plot(dx1dt[800:])"
   ]
  },
  {
   "cell_type": "code",
   "execution_count": 15,
   "metadata": {},
   "outputs": [
    {
     "name": "stdout",
     "output_type": "stream",
     "text": [
      "[ 0.          0.99491832 -0.02198579 -0.         -0.         -0.04791986\n",
      "  0.          0.         -0.         -0.82689872]\n",
      "0.0022126622685510883\n"
     ]
    }
   ],
   "source": [
    "mod.fit(newdf_train, dx2dt_train)\n",
    "print(mod.coef_) # should give the 2nd (x1) + last (x2^3) argument non-zero\n",
    "# BUT only picking up x1 and x1*x2 for some reason\n",
    "print(mod.intercept_)"
   ]
  },
  {
   "cell_type": "code",
   "execution_count": 16,
   "metadata": {},
   "outputs": [
    {
     "data": {
      "text/html": [
       "<div>\n",
       "<style scoped>\n",
       "    .dataframe tbody tr th:only-of-type {\n",
       "        vertical-align: middle;\n",
       "    }\n",
       "\n",
       "    .dataframe tbody tr th {\n",
       "        vertical-align: top;\n",
       "    }\n",
       "\n",
       "    .dataframe thead th {\n",
       "        text-align: right;\n",
       "    }\n",
       "</style>\n",
       "<table border=\"1\" class=\"dataframe\">\n",
       "  <thead>\n",
       "    <tr style=\"text-align: right;\">\n",
       "      <th></th>\n",
       "      <th>1</th>\n",
       "      <th>x1</th>\n",
       "      <th>x2</th>\n",
       "      <th>x1^2</th>\n",
       "      <th>x1 x2</th>\n",
       "      <th>x2^2</th>\n",
       "      <th>x1^3</th>\n",
       "      <th>x1^2 x2</th>\n",
       "      <th>x1 x2^2</th>\n",
       "      <th>x2^3</th>\n",
       "    </tr>\n",
       "  </thead>\n",
       "  <tbody>\n",
       "    <tr>\n",
       "      <th>0</th>\n",
       "      <td>0.0</td>\n",
       "      <td>0.994918</td>\n",
       "      <td>-0.021986</td>\n",
       "      <td>-0.0</td>\n",
       "      <td>-0.0</td>\n",
       "      <td>-0.04792</td>\n",
       "      <td>0.0</td>\n",
       "      <td>0.0</td>\n",
       "      <td>-0.0</td>\n",
       "      <td>-0.826899</td>\n",
       "    </tr>\n",
       "  </tbody>\n",
       "</table>\n",
       "</div>"
      ],
      "text/plain": [
       "     1        x1        x2  x1^2  x1 x2     x2^2  x1^3  x1^2 x2  x1 x2^2  \\\n",
       "0  0.0  0.994918 -0.021986  -0.0   -0.0 -0.04792   0.0      0.0     -0.0   \n",
       "\n",
       "       x2^3  \n",
       "0 -0.826899  "
      ]
     },
     "execution_count": 16,
     "metadata": {},
     "output_type": "execute_result"
    }
   ],
   "source": [
    "fit_dx2 = pd.DataFrame(columns=newdf.columns)\n",
    "fit_dx2.loc[0] = mod.coef_\n",
    "fit_dx2.head()"
   ]
  },
  {
   "cell_type": "code",
   "execution_count": 17,
   "metadata": {},
   "outputs": [
    {
     "data": {
      "text/plain": [
       "[<matplotlib.lines.Line2D at 0x7f0a8c10e110>]"
      ]
     },
     "execution_count": 17,
     "metadata": {},
     "output_type": "execute_result"
    },
    {
     "data": {
      "image/png": "[encoded data removed]",
      "text/plain": [
       "<Figure size 576x396 with 1 Axes>"
      ]
     },
     "metadata": {},
     "output_type": "display_data"
    }
   ],
   "source": [
    "# PLOT results\n",
    "# Consistent with the above: because the model is picking up x2^2 instead of x2^3, the predictions are off!!\n",
    "ypred = mod.predict(newdf[800:])\n",
    "plt.plot(ypred)\n",
    "plt.plot(dx2dt[800:])"
   ]
  },
  {
   "cell_type": "code",
   "execution_count": null,
   "metadata": {},
   "outputs": [],
   "source": []
  }
 ],
 "metadata": {
  "kernelspec": {
   "display_name": "Python 3",
   "language": "python",
   "name": "python3"
  },
  "language_info": {
   "codemirror_mode": {
    "name": "ipython",
    "version": 3
   },
   "file_extension": ".py",
   "mimetype": "text/x-python",
   "name": "python",
   "nbconvert_exporter": "python",
   "pygments_lexer": "ipython3",
   "version": "3.7.4"
  }
 },
 "nbformat": 4,
 "nbformat_minor": 4
}
